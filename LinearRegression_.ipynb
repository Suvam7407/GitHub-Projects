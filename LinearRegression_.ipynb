{
  "nbformat": 4,
  "nbformat_minor": 0,
  "metadata": {
    "colab": {
      "name": "LinearRegression .ipynb",
      "provenance": [],
      "collapsed_sections": [],
      "include_colab_link": true
    },
    "kernelspec": {
      "name": "python3",
      "display_name": "Python 3"
    }
  },
  "cells": [
    {
      "cell_type": "markdown",
      "metadata": {
        "id": "view-in-github",
        "colab_type": "text"
      },
      "source": [
        "<a href=\"https://colab.research.google.com/github/Suvam7407/GitHub-Projects/blob/master/LinearRegression_.ipynb\" target=\"_parent\"><img src=\"https://colab.research.google.com/assets/colab-badge.svg\" alt=\"Open In Colab\"/></a>"
      ]
    },
    {
      "cell_type": "markdown",
      "metadata": {
        "id": "BFGSYc7qD56a",
        "colab_type": "text"
      },
      "source": [
        "  linearRegression\n",
        "  "
      ]
    },
    {
      "cell_type": "code",
      "metadata": {
        "id": "V01BsahjCiqb",
        "colab_type": "code",
        "outputId": "ff4fcd9a-d590-43da-ef9c-4d978c66029e",
        "colab": {
          "base_uri": "https://localhost:8080/",
          "height": 328
        }
      },
      "source": [
        "# Supervised Learning\n",
        "# Linear Regression\n",
        "# Student Test Grade Prediction\n",
        "# Knowledge Discovery Process [KDD]\n",
        "\n",
        "# Stage 1 : Load Dataset\n",
        "import pandas as pd\n",
        "df = pd.read_csv('http://devanshushukla.com/hackveda.in/videos/Grade_Set_1.csv')\n",
        "df"
      ],
      "execution_count": 0,
      "outputs": [
        {
          "output_type": "execute_result",
          "data": {
            "text/html": [
              "<div>\n",
              "<style scoped>\n",
              "    .dataframe tbody tr th:only-of-type {\n",
              "        vertical-align: middle;\n",
              "    }\n",
              "\n",
              "    .dataframe tbody tr th {\n",
              "        vertical-align: top;\n",
              "    }\n",
              "\n",
              "    .dataframe thead th {\n",
              "        text-align: right;\n",
              "    }\n",
              "</style>\n",
              "<table border=\"1\" class=\"dataframe\">\n",
              "  <thead>\n",
              "    <tr style=\"text-align: right;\">\n",
              "      <th></th>\n",
              "      <th>Hours_Studied</th>\n",
              "      <th>Test_Grade</th>\n",
              "      <th>Status</th>\n",
              "      <th>Result</th>\n",
              "    </tr>\n",
              "  </thead>\n",
              "  <tbody>\n",
              "    <tr>\n",
              "      <th>0</th>\n",
              "      <td>2</td>\n",
              "      <td>57</td>\n",
              "      <td>fail</td>\n",
              "      <td>D</td>\n",
              "    </tr>\n",
              "    <tr>\n",
              "      <th>1</th>\n",
              "      <td>3</td>\n",
              "      <td>66</td>\n",
              "      <td>fail</td>\n",
              "      <td>D</td>\n",
              "    </tr>\n",
              "    <tr>\n",
              "      <th>2</th>\n",
              "      <td>4</td>\n",
              "      <td>73</td>\n",
              "      <td>pass</td>\n",
              "      <td>C</td>\n",
              "    </tr>\n",
              "    <tr>\n",
              "      <th>3</th>\n",
              "      <td>5</td>\n",
              "      <td>76</td>\n",
              "      <td>pass</td>\n",
              "      <td>C</td>\n",
              "    </tr>\n",
              "    <tr>\n",
              "      <th>4</th>\n",
              "      <td>6</td>\n",
              "      <td>79</td>\n",
              "      <td>pass</td>\n",
              "      <td>C</td>\n",
              "    </tr>\n",
              "    <tr>\n",
              "      <th>5</th>\n",
              "      <td>7</td>\n",
              "      <td>81</td>\n",
              "      <td>pass</td>\n",
              "      <td>B</td>\n",
              "    </tr>\n",
              "    <tr>\n",
              "      <th>6</th>\n",
              "      <td>8</td>\n",
              "      <td>90</td>\n",
              "      <td>pass</td>\n",
              "      <td>B</td>\n",
              "    </tr>\n",
              "    <tr>\n",
              "      <th>7</th>\n",
              "      <td>9</td>\n",
              "      <td>96</td>\n",
              "      <td>pass</td>\n",
              "      <td>A</td>\n",
              "    </tr>\n",
              "    <tr>\n",
              "      <th>8</th>\n",
              "      <td>10</td>\n",
              "      <td>100</td>\n",
              "      <td>pass</td>\n",
              "      <td>A</td>\n",
              "    </tr>\n",
              "  </tbody>\n",
              "</table>\n",
              "</div>"
            ],
            "text/plain": [
              "   Hours_Studied  Test_Grade Status Result\n",
              "0              2          57   fail      D\n",
              "1              3          66   fail      D\n",
              "2              4          73   pass      C\n",
              "3              5          76   pass      C\n",
              "4              6          79   pass      C\n",
              "5              7          81   pass      B\n",
              "6              8          90   pass      B\n",
              "7              9          96   pass      A\n",
              "8             10         100   pass      A"
            ]
          },
          "metadata": {
            "tags": []
          },
          "execution_count": 2
        }
      ]
    },
    {
      "cell_type": "code",
      "metadata": {
        "id": "925S005XDAZN",
        "colab_type": "code",
        "outputId": "9bf2041d-2d6c-4bd7-abf6-914321258394",
        "colab": {
          "base_uri": "https://localhost:8080/",
          "height": 34
        }
      },
      "source": [
        "# Data Exploration\n",
        "# check column names\n",
        "df.columns"
      ],
      "execution_count": 0,
      "outputs": [
        {
          "output_type": "execute_result",
          "data": {
            "text/plain": [
              "Index(['Hours_Studied', 'Test_Grade', 'Status', 'Result'], dtype='object')"
            ]
          },
          "metadata": {
            "tags": []
          },
          "execution_count": 3
        }
      ]
    },
    {
      "cell_type": "code",
      "metadata": {
        "id": "Y984uFGGDO-S",
        "colab_type": "code",
        "outputId": "3b0ad4ca-e09d-44d3-8242-12bd4973c1b6",
        "colab": {
          "base_uri": "https://localhost:8080/",
          "height": 34
        }
      },
      "source": [
        "# check Dimensions\n",
        "df.shape  # (rows , column)"
      ],
      "execution_count": 0,
      "outputs": [
        {
          "output_type": "execute_result",
          "data": {
            "text/plain": [
              "(9, 4)"
            ]
          },
          "metadata": {
            "tags": []
          },
          "execution_count": 4
        }
      ]
    },
    {
      "cell_type": "code",
      "metadata": {
        "id": "asPlh0HuDWvH",
        "colab_type": "code",
        "outputId": "8f9a1e3a-e16e-4a06-eda3-9b000585d9a1",
        "colab": {
          "base_uri": "https://localhost:8080/",
          "height": 170
        }
      },
      "source": [
        "# info() --> statistical summary of dataset\n",
        "df.info()"
      ],
      "execution_count": 0,
      "outputs": [
        {
          "output_type": "stream",
          "text": [
            "<class 'pandas.core.frame.DataFrame'>\n",
            "RangeIndex: 9 entries, 0 to 8\n",
            "Data columns (total 4 columns):\n",
            "Hours_Studied    9 non-null int64\n",
            "Test_Grade       9 non-null int64\n",
            "Status           9 non-null object\n",
            "Result           9 non-null object\n",
            "dtypes: int64(2), object(2)\n",
            "memory usage: 416.0+ bytes\n"
          ],
          "name": "stdout"
        }
      ]
    },
    {
      "cell_type": "code",
      "metadata": {
        "id": "9CY3iwJ7DX7V",
        "colab_type": "code",
        "outputId": "3430f9a2-5250-483e-f4cf-4bc5fd66612c",
        "colab": {
          "base_uri": "https://localhost:8080/",
          "height": 102
        }
      },
      "source": [
        "# check for missing values\n",
        "df.isna().any()"
      ],
      "execution_count": 0,
      "outputs": [
        {
          "output_type": "execute_result",
          "data": {
            "text/plain": [
              "Hours_Studied    False\n",
              "Test_Grade       False\n",
              "Status           False\n",
              "Result           False\n",
              "dtype: bool"
            ]
          },
          "metadata": {
            "tags": []
          },
          "execution_count": 5
        }
      ]
    },
    {
      "cell_type": "code",
      "metadata": {
        "id": "L39NnfQADpTv",
        "colab_type": "code",
        "outputId": "7c0b8b55-f914-4fdf-c446-5c34f8c54dd7",
        "colab": {
          "base_uri": "https://localhost:8080/",
          "height": 421
        }
      },
      "source": [
        "# Stage 2 : Selection\n",
        "# Independent Variable\n",
        "# Dependent Variable\n",
        "\n",
        "'''\n",
        "How do we select Independent / Dependent Variable ?\n",
        "\n",
        "Independent variables are characteristics that can be measured directly \n",
        "(example the Hours_Studied).\n",
        "\n",
        "Dependent variable is a characteristic whose value depends on the values of\n",
        "independent variables (example the Test_Grade).\n",
        "\n",
        "'''\n",
        "\n",
        "import matplotlib.pyplot as plt\n",
        "%matplotlib inline\n",
        "\n",
        "df.plot(kind='scatter' , x='Hours_Studied' , y='Test_Grade',\n",
        "        title='Grade Vs Hours Studied')\n",
        "\n",
        "df.corr()"
      ],
      "execution_count": 0,
      "outputs": [
        {
          "output_type": "execute_result",
          "data": {
            "text/html": [
              "<div>\n",
              "<style scoped>\n",
              "    .dataframe tbody tr th:only-of-type {\n",
              "        vertical-align: middle;\n",
              "    }\n",
              "\n",
              "    .dataframe tbody tr th {\n",
              "        vertical-align: top;\n",
              "    }\n",
              "\n",
              "    .dataframe thead th {\n",
              "        text-align: right;\n",
              "    }\n",
              "</style>\n",
              "<table border=\"1\" class=\"dataframe\">\n",
              "  <thead>\n",
              "    <tr style=\"text-align: right;\">\n",
              "      <th></th>\n",
              "      <th>Hours_Studied</th>\n",
              "      <th>Test_Grade</th>\n",
              "      <th>Status</th>\n",
              "    </tr>\n",
              "  </thead>\n",
              "  <tbody>\n",
              "    <tr>\n",
              "      <th>Hours_Studied</th>\n",
              "      <td>1.000000</td>\n",
              "      <td>0.987797</td>\n",
              "      <td>0.724569</td>\n",
              "    </tr>\n",
              "    <tr>\n",
              "      <th>Test_Grade</th>\n",
              "      <td>0.987797</td>\n",
              "      <td>1.000000</td>\n",
              "      <td>0.745054</td>\n",
              "    </tr>\n",
              "    <tr>\n",
              "      <th>Status</th>\n",
              "      <td>0.724569</td>\n",
              "      <td>0.745054</td>\n",
              "      <td>1.000000</td>\n",
              "    </tr>\n",
              "  </tbody>\n",
              "</table>\n",
              "</div>"
            ],
            "text/plain": [
              "               Hours_Studied  Test_Grade    Status\n",
              "Hours_Studied       1.000000    0.987797  0.724569\n",
              "Test_Grade          0.987797    1.000000  0.745054\n",
              "Status              0.724569    0.745054  1.000000"
            ]
          },
          "metadata": {
            "tags": []
          },
          "execution_count": 14
        },
        {
          "output_type": "display_data",
          "data": {
            "image/png": "[encoded data removed]",
            "text/plain": [
              "<Figure size 432x288 with 1 Axes>"
            ]
          },
          "metadata": {
            "tags": []
          }
        }
      ]
    },
    {
      "cell_type": "code",
      "metadata": {
        "id": "0KQXOgbsQ-ko",
        "colab_type": "code",
        "outputId": "1ab03938-fc8d-4555-9bfe-2b7772bf51ec",
        "colab": {
          "base_uri": "https://localhost:8080/",
          "height": 328
        }
      },
      "source": [
        "# Stage 3 : Preprocessing\n",
        "# isnull() --> it will return TRUE if there is any missing value\n",
        "df.isnull()"
      ],
      "execution_count": 0,
      "outputs": [
        {
          "output_type": "execute_result",
          "data": {
            "text/html": [
              "<div>\n",
              "<style scoped>\n",
              "    .dataframe tbody tr th:only-of-type {\n",
              "        vertical-align: middle;\n",
              "    }\n",
              "\n",
              "    .dataframe tbody tr th {\n",
              "        vertical-align: top;\n",
              "    }\n",
              "\n",
              "    .dataframe thead th {\n",
              "        text-align: right;\n",
              "    }\n",
              "</style>\n",
              "<table border=\"1\" class=\"dataframe\">\n",
              "  <thead>\n",
              "    <tr style=\"text-align: right;\">\n",
              "      <th></th>\n",
              "      <th>Hours_Studied</th>\n",
              "      <th>Test_Grade</th>\n",
              "      <th>Status</th>\n",
              "      <th>Result</th>\n",
              "    </tr>\n",
              "  </thead>\n",
              "  <tbody>\n",
              "    <tr>\n",
              "      <th>0</th>\n",
              "      <td>False</td>\n",
              "      <td>False</td>\n",
              "      <td>False</td>\n",
              "      <td>False</td>\n",
              "    </tr>\n",
              "    <tr>\n",
              "      <th>1</th>\n",
              "      <td>False</td>\n",
              "      <td>False</td>\n",
              "      <td>False</td>\n",
              "      <td>False</td>\n",
              "    </tr>\n",
              "    <tr>\n",
              "      <th>2</th>\n",
              "      <td>False</td>\n",
              "      <td>False</td>\n",
              "      <td>False</td>\n",
              "      <td>False</td>\n",
              "    </tr>\n",
              "    <tr>\n",
              "      <th>3</th>\n",
              "      <td>False</td>\n",
              "      <td>False</td>\n",
              "      <td>False</td>\n",
              "      <td>False</td>\n",
              "    </tr>\n",
              "    <tr>\n",
              "      <th>4</th>\n",
              "      <td>False</td>\n",
              "      <td>False</td>\n",
              "      <td>False</td>\n",
              "      <td>False</td>\n",
              "    </tr>\n",
              "    <tr>\n",
              "      <th>5</th>\n",
              "      <td>False</td>\n",
              "      <td>False</td>\n",
              "      <td>False</td>\n",
              "      <td>False</td>\n",
              "    </tr>\n",
              "    <tr>\n",
              "      <th>6</th>\n",
              "      <td>False</td>\n",
              "      <td>False</td>\n",
              "      <td>False</td>\n",
              "      <td>False</td>\n",
              "    </tr>\n",
              "    <tr>\n",
              "      <th>7</th>\n",
              "      <td>False</td>\n",
              "      <td>False</td>\n",
              "      <td>False</td>\n",
              "      <td>False</td>\n",
              "    </tr>\n",
              "    <tr>\n",
              "      <th>8</th>\n",
              "      <td>False</td>\n",
              "      <td>False</td>\n",
              "      <td>False</td>\n",
              "      <td>False</td>\n",
              "    </tr>\n",
              "  </tbody>\n",
              "</table>\n",
              "</div>"
            ],
            "text/plain": [
              "   Hours_Studied  Test_Grade  Status  Result\n",
              "0          False       False   False   False\n",
              "1          False       False   False   False\n",
              "2          False       False   False   False\n",
              "3          False       False   False   False\n",
              "4          False       False   False   False\n",
              "5          False       False   False   False\n",
              "6          False       False   False   False\n",
              "7          False       False   False   False\n",
              "8          False       False   False   False"
            ]
          },
          "metadata": {
            "tags": []
          },
          "execution_count": 9
        }
      ]
    },
    {
      "cell_type": "code",
      "metadata": {
        "id": "Ppj0-RTR31wV",
        "colab_type": "code",
        "outputId": "5215dfce-983a-4191-ba2b-8f180f285a86",
        "colab": {
          "base_uri": "https://localhost:8080/",
          "height": 204
        }
      },
      "source": [
        "# Stage 4 : Transformation\n",
        "\n",
        "# Label Binarizer --> It Converts boolean categorical values like yes/no  true/false\n",
        "# fail/pass  success/noSuccess into numerical features [0/1]\n",
        "\n",
        "import sklearn.preprocessing as pp\n",
        "lb = pp.LabelBinarizer()\n",
        "print ('Before Conversion\\n',df)"
      ],
      "execution_count": 0,
      "outputs": [
        {
          "output_type": "stream",
          "text": [
            "Before Conversion\n",
            "    Hours_Studied  Test_Grade Status Result\n",
            "0              2          57   fail      D\n",
            "1              3          66   fail      D\n",
            "2              4          73   pass      C\n",
            "3              5          76   pass      C\n",
            "4              6          79   pass      C\n",
            "5              7          81   pass      B\n",
            "6              8          90   pass      B\n",
            "7              9          96   pass      A\n",
            "8             10         100   pass      A\n"
          ],
          "name": "stdout"
        }
      ]
    },
    {
      "cell_type": "code",
      "metadata": {
        "id": "plTbv-mb4OVb",
        "colab_type": "code",
        "outputId": "0ff1d95c-5642-4026-cd9a-4b393a88027e",
        "colab": {
          "base_uri": "https://localhost:8080/",
          "height": 204
        }
      },
      "source": [
        "df.Status = lb.fit_transform(df.Status)\n",
        "print ('After Conversion\\n',df)"
      ],
      "execution_count": 0,
      "outputs": [
        {
          "output_type": "stream",
          "text": [
            "After Conversion\n",
            "    Hours_Studied  Test_Grade  Status Result\n",
            "0              2          57       0      D\n",
            "1              3          66       0      D\n",
            "2              4          73       1      C\n",
            "3              5          76       1      C\n",
            "4              6          79       1      C\n",
            "5              7          81       1      B\n",
            "6              8          90       1      B\n",
            "7              9          96       1      A\n",
            "8             10         100       1      A\n"
          ],
          "name": "stdout"
        }
      ]
    },
    {
      "cell_type": "code",
      "metadata": {
        "id": "jipRAhn_4VXm",
        "colab_type": "code",
        "outputId": "85ec52a9-81fc-40dc-ddf0-2e1fccb5f719",
        "colab": {
          "base_uri": "https://localhost:8080/",
          "height": 34
        }
      },
      "source": [
        "# Normalization / MIN - MAX Scaling\n",
        "# Changing the scale of multiple variables to a same range (0-1)\n",
        "# Xnorm = (X - Xmin) / (Xmax - Xmin)\n",
        "\n",
        "# Dependent Variable\n",
        "Y = df.Test_Grade.values\n",
        "Y"
      ],
      "execution_count": 0,
      "outputs": [
        {
          "output_type": "execute_result",
          "data": {
            "text/plain": [
              "array([ 57,  66,  73,  76,  79,  81,  90,  96, 100])"
            ]
          },
          "metadata": {
            "tags": []
          },
          "execution_count": 6
        }
      ]
    },
    {
      "cell_type": "code",
      "metadata": {
        "id": "BASbriEX4iA0",
        "colab_type": "code",
        "outputId": "05a274d3-d977-41c5-f331-b5e9e743b05d",
        "colab": {
          "base_uri": "https://localhost:8080/",
          "height": 170
        }
      },
      "source": [
        "# Independent Variable \n",
        "import numpy as np\n",
        "X = df.Hours_Studied.values[:,np.newaxis]\n",
        "X"
      ],
      "execution_count": 0,
      "outputs": [
        {
          "output_type": "execute_result",
          "data": {
            "text/plain": [
              "array([[ 2],\n",
              "       [ 3],\n",
              "       [ 4],\n",
              "       [ 5],\n",
              "       [ 6],\n",
              "       [ 7],\n",
              "       [ 8],\n",
              "       [ 9],\n",
              "       [10]])"
            ]
          },
          "metadata": {
            "tags": []
          },
          "execution_count": 7
        }
      ]
    },
    {
      "cell_type": "code",
      "metadata": {
        "id": "VpfG2dip4oIc",
        "colab_type": "code",
        "outputId": "0c2a6241-bad1-47ba-9b7c-548018018baa",
        "colab": {
          "base_uri": "https://localhost:8080/",
          "height": 204
        }
      },
      "source": [
        "Xmin = X.min()\n",
        "print ('Xmin :',Xmin)\n",
        "Xmax = X.max()\n",
        "print ('Xmax :',Xmax)\n",
        "Xnorm = (X-Xmin) / (Xmax - Xmin)\n",
        "Xnorm"
      ],
      "execution_count": 0,
      "outputs": [
        {
          "output_type": "stream",
          "text": [
            "Xmin : 2\n",
            "Xmax : 10\n"
          ],
          "name": "stdout"
        },
        {
          "output_type": "execute_result",
          "data": {
            "text/plain": [
              "array([[0.   ],\n",
              "       [0.125],\n",
              "       [0.25 ],\n",
              "       [0.375],\n",
              "       [0.5  ],\n",
              "       [0.625],\n",
              "       [0.75 ],\n",
              "       [0.875],\n",
              "       [1.   ]])"
            ]
          },
          "metadata": {
            "tags": []
          },
          "execution_count": 8
        }
      ]
    },
    {
      "cell_type": "code",
      "metadata": {
        "id": "sePFJNU24wM1",
        "colab_type": "code",
        "outputId": "fd2dd447-9a9d-4dea-fe0a-92faa278305a",
        "colab": {
          "base_uri": "https://localhost:8080/",
          "height": 51
        }
      },
      "source": [
        "Ynorm = (Y - Y.min()) / (Y.max() - Y.min())\n",
        "Ynorm"
      ],
      "execution_count": 0,
      "outputs": [
        {
          "output_type": "execute_result",
          "data": {
            "text/plain": [
              "array([0.        , 0.20930233, 0.37209302, 0.44186047, 0.51162791,\n",
              "       0.55813953, 0.76744186, 0.90697674, 1.        ])"
            ]
          },
          "metadata": {
            "tags": []
          },
          "execution_count": 9
        }
      ]
    },
    {
      "cell_type": "code",
      "metadata": {
        "id": "VYGBKmcI47gP",
        "colab_type": "code",
        "outputId": "a322a9d9-357f-4174-ae78-b8affe5d4a56",
        "colab": {
          "base_uri": "https://localhost:8080/",
          "height": 34
        }
      },
      "source": [
        "# Stage 5 : Data Mining\n",
        "# Identification an equation which can predict Test_Grade on the basis on Hours_Studied\n",
        "# Linear Regression : Y = a + bX\n",
        "'''A linear regression line has an equation of the form Y = a + bX, where X is the explanatory variable \n",
        "and Y is the dependent variable.\n",
        "The slope of the line is b, and a is the intercept (the value of y when x = 0).\n",
        "\n",
        "https://scikit-learn.org/stable/modules/generated/sklearn.linear_model.LinearRegression.html\n",
        "'''\n",
        "import sklearn.linear_model as lm\n",
        "# classifier object\n",
        "lr = lm.LinearRegression()\n",
        "\n",
        "# Train Our Model\n",
        "# Fitting Of a Linear Regression Model\n",
        "\n",
        "lr.fit(X,Y)"
      ],
      "execution_count": 0,
      "outputs": [
        {
          "output_type": "execute_result",
          "data": {
            "text/plain": [
              "LinearRegression(copy_X=True, fit_intercept=True, n_jobs=None, normalize=False)"
            ]
          },
          "metadata": {
            "tags": []
          },
          "execution_count": 10
        }
      ]
    },
    {
      "cell_type": "code",
      "metadata": {
        "id": "c8V0RFuJFlxz",
        "colab_type": "code",
        "outputId": "1a223dcf-3180-4754-9efa-5861f622b995",
        "colab": {
          "base_uri": "https://localhost:8080/",
          "height": 51
        }
      },
      "source": [
        "# Predict the values of marks on the basis of hours\n",
        "hrs = int(input('Enter Study Hours : '))\n",
        "marks = lr.predict([[hrs]])\n",
        "print ('Student who studies for',hrs,' hrs will going to score',marks,'marks')"
      ],
      "execution_count": 0,
      "outputs": [
        {
          "output_type": "stream",
          "text": [
            "Enter Study Hours : 10\n",
            "Student who studies for 10  hrs will going to score [99.84444444] marks\n"
          ],
          "name": "stdout"
        }
      ]
    },
    {
      "cell_type": "code",
      "metadata": {
        "id": "LdJSmJdyFrb2",
        "colab_type": "code",
        "outputId": "93109949-19af-4b26-c2e6-85a49959cfe6",
        "colab": {
          "base_uri": "https://localhost:8080/",
          "height": 313
        }
      },
      "source": [
        "# Plot --> Actual Vs Predicted\n",
        "plt.plot(X,Y,color='red')\n",
        "plt.scatter(X,Y,color='red')\n",
        "plt.xlabel('Hours_Studied')\n",
        "plt.ylabel('Grades')\n",
        "plt.title('Actual Vs Predicted')\n",
        "# Plot The Predicted values\n",
        "plt.plot(X,lr.predict(X),color='green')\n",
        "plt.scatter(X,lr.predict(X),color='green')"
      ],
      "execution_count": 0,
      "outputs": [
        {
          "output_type": "execute_result",
          "data": {
            "text/plain": [
              "<matplotlib.collections.PathCollection at 0x7fa6bde8d4e0>"
            ]
          },
          "metadata": {
            "tags": []
          },
          "execution_count": 15
        },
        {
          "output_type": "display_data",
          "data": {
            "image/png": "[encoded data removed]",
            "text/plain": [
              "<Figure size 432x288 with 1 Axes>"
            ]
          },
          "metadata": {
            "tags": []
          }
        }
      ]
    },
    {
      "cell_type": "code",
      "metadata": {
        "id": "apTFTndCFxrX",
        "colab_type": "code",
        "outputId": "5e239780-1f33-44d0-83e3-abd569e4f0da",
        "colab": {
          "base_uri": "https://localhost:8080/",
          "height": 328
        }
      },
      "source": [
        "df['predicted_Values'] = lr.predict(X)\n",
        "df"
      ],
      "execution_count": 0,
      "outputs": [
        {
          "output_type": "execute_result",
          "data": {
            "text/html": [
              "<div>\n",
              "<style scoped>\n",
              "    .dataframe tbody tr th:only-of-type {\n",
              "        vertical-align: middle;\n",
              "    }\n",
              "\n",
              "    .dataframe tbody tr th {\n",
              "        vertical-align: top;\n",
              "    }\n",
              "\n",
              "    .dataframe thead th {\n",
              "        text-align: right;\n",
              "    }\n",
              "</style>\n",
              "<table border=\"1\" class=\"dataframe\">\n",
              "  <thead>\n",
              "    <tr style=\"text-align: right;\">\n",
              "      <th></th>\n",
              "      <th>Hours_Studied</th>\n",
              "      <th>Test_Grade</th>\n",
              "      <th>Status</th>\n",
              "      <th>Result</th>\n",
              "      <th>predicted_Values</th>\n",
              "    </tr>\n",
              "  </thead>\n",
              "  <tbody>\n",
              "    <tr>\n",
              "      <th>0</th>\n",
              "      <td>2</td>\n",
              "      <td>57</td>\n",
              "      <td>0</td>\n",
              "      <td>D</td>\n",
              "      <td>59.711111</td>\n",
              "    </tr>\n",
              "    <tr>\n",
              "      <th>1</th>\n",
              "      <td>3</td>\n",
              "      <td>66</td>\n",
              "      <td>0</td>\n",
              "      <td>D</td>\n",
              "      <td>64.727778</td>\n",
              "    </tr>\n",
              "    <tr>\n",
              "      <th>2</th>\n",
              "      <td>4</td>\n",
              "      <td>73</td>\n",
              "      <td>1</td>\n",
              "      <td>C</td>\n",
              "      <td>69.744444</td>\n",
              "    </tr>\n",
              "    <tr>\n",
              "      <th>3</th>\n",
              "      <td>5</td>\n",
              "      <td>76</td>\n",
              "      <td>1</td>\n",
              "      <td>C</td>\n",
              "      <td>74.761111</td>\n",
              "    </tr>\n",
              "    <tr>\n",
              "      <th>4</th>\n",
              "      <td>6</td>\n",
              "      <td>79</td>\n",
              "      <td>1</td>\n",
              "      <td>C</td>\n",
              "      <td>79.777778</td>\n",
              "    </tr>\n",
              "    <tr>\n",
              "      <th>5</th>\n",
              "      <td>7</td>\n",
              "      <td>81</td>\n",
              "      <td>1</td>\n",
              "      <td>B</td>\n",
              "      <td>84.794444</td>\n",
              "    </tr>\n",
              "    <tr>\n",
              "      <th>6</th>\n",
              "      <td>8</td>\n",
              "      <td>90</td>\n",
              "      <td>1</td>\n",
              "      <td>B</td>\n",
              "      <td>89.811111</td>\n",
              "    </tr>\n",
              "    <tr>\n",
              "      <th>7</th>\n",
              "      <td>9</td>\n",
              "      <td>96</td>\n",
              "      <td>1</td>\n",
              "      <td>A</td>\n",
              "      <td>94.827778</td>\n",
              "    </tr>\n",
              "    <tr>\n",
              "      <th>8</th>\n",
              "      <td>10</td>\n",
              "      <td>100</td>\n",
              "      <td>1</td>\n",
              "      <td>A</td>\n",
              "      <td>99.844444</td>\n",
              "    </tr>\n",
              "  </tbody>\n",
              "</table>\n",
              "</div>"
            ],
            "text/plain": [
              "   Hours_Studied  Test_Grade  Status Result  predicted_Values\n",
              "0              2          57       0      D         59.711111\n",
              "1              3          66       0      D         64.727778\n",
              "2              4          73       1      C         69.744444\n",
              "3              5          76       1      C         74.761111\n",
              "4              6          79       1      C         79.777778\n",
              "5              7          81       1      B         84.794444\n",
              "6              8          90       1      B         89.811111\n",
              "7              9          96       1      A         94.827778\n",
              "8             10         100       1      A         99.844444"
            ]
          },
          "metadata": {
            "tags": []
          },
          "execution_count": 16
        }
      ]
    },
    {
      "cell_type": "code",
      "metadata": {
        "id": "xuWsH7nXF3rt",
        "colab_type": "code",
        "outputId": "c105f870-85d2-47ab-986a-7df87756905e",
        "colab": {
          "base_uri": "https://localhost:8080/",
          "height": 85
        }
      },
      "source": [
        "# Evaluate Our Model Performance\n",
        "# Accuracy --> r2_score [regression score function][0-1]\n",
        "# https://scikit-learn.org/stable/modules/generated/sklearn.metrics.r2_score.html\n",
        "#error score=min the error better the model\n",
        "#mean absolute error\n",
        "#root mean squared error\n",
        " \n",
        "from sklearn.metrics import r2_score\n",
        "accuracy = r2_score(Y,lr.predict(X))\n",
        "print ('Accuracy Of Model is :',accuracy)\n",
        "#error:0-n\n",
        "from sklearn.metrics import mean_absolute_error\n",
        "mae=mean_absolute_error(Y,lr.predict(X))\n",
        "print(\"mean absolute error\",mae)\n",
        "from sklearn.metrics import mean_squared_error\n",
        "mse=mean_squared_error(Y,lr.predict(X))\n",
        "print(\"mean squared error\",mse)\n",
        "print(\"root mean squared error\",(mse)**1/2)"
      ],
      "execution_count": 0,
      "outputs": [
        {
          "output_type": "stream",
          "text": [
            "Accuracy Of Model is : 0.9757431074095347\n",
            "mean absolute error 1.618518518518523\n",
            "mean squared error 4.170987654320986\n",
            "root mean squared error 2.085493827160493\n"
          ],
          "name": "stdout"
        }
      ]
    },
    {
      "cell_type": "code",
      "metadata": {
        "id": "hW_M5ZiXc47B",
        "colab_type": "code",
        "colab": {}
      },
      "source": [
        ""
      ],
      "execution_count": 0,
      "outputs": []
    }
  ]
}