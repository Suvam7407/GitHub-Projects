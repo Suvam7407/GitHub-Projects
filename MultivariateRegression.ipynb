{
  "nbformat": 4,
  "nbformat_minor": 0,
  "metadata": {
    "colab": {
      "name": "MultivariateRegression.ipynb",
      "provenance": [],
      "collapsed_sections": [],
      "include_colab_link": true
    },
    "kernelspec": {
      "name": "python3",
      "display_name": "Python 3"
    }
  },
  "cells": [
    {
      "cell_type": "markdown",
      "metadata": {
        "id": "view-in-github",
        "colab_type": "text"
      },
      "source": [
        "<a href=\"https://colab.research.google.com/github/Suvam7407/GitHub-Projects/blob/master/MultivariateRegression.ipynb\" target=\"_parent\"><img src=\"https://colab.research.google.com/assets/colab-badge.svg\" alt=\"Open In Colab\"/></a>"
      ]
    },
    {
      "cell_type": "code",
      "metadata": {
        "id": "PU_dRUVjREOi",
        "colab_type": "code",
        "outputId": "f2c28f87-afb9-4ff8-d3b5-32a0d1b4225e",
        "colab": {
          "resources": {
            "http://localhost:8080/nbextensions/google.colab/files.js": {
              "data": "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",
              "ok": true,
              "headers": [
                [
                  "content-type",
                  "application/javascript"
                ]
              ],
              "status": 200,
              "status_text": ""
            }
          },
          "base_uri": "https://localhost:8080/",
          "height": 74
        }
      },
      "source": [
        "import numpy as np\n",
        "import pandas as pd\n"
      ],
      "execution_count": 0,
      "outputs": [
        {
          "output_type": "display_data",
          "data": {
            "text/html": [
              "\n",
              "     <input type=\"file\" id=\"files-6feaec53-c289-4104-a5a5-3f36a164132c\" name=\"files[]\" multiple disabled />\n",
              "     <output id=\"result-6feaec53-c289-4104-a5a5-3f36a164132c\">\n",
              "      Upload widget is only available when the cell has been executed in the\n",
              "      current browser session. Please rerun this cell to enable.\n",
              "      </output>\n",
              "      <script src=\"/nbextensions/google.colab/files.js\"></script> "
            ],
            "text/plain": [
              "<IPython.core.display.HTML object>"
            ]
          },
          "metadata": {
            "tags": []
          }
        },
        {
          "output_type": "stream",
          "text": [
            "Saving Housing_Modified.csv to Housing_Modified.csv\n"
          ],
          "name": "stdout"
        }
      ]
    },
    {
      "cell_type": "code",
      "metadata": {
        "id": "_CUFAN1TRuCu",
        "colab_type": "code",
        "outputId": "e2a248bc-4c3a-4da4-ce05-58850b87b5d3",
        "colab": {
          "base_uri": "https://localhost:8080/",
          "height": 204
        }
      },
      "source": [
        "#we can check the dataset is loaded or not\n",
        "\n",
        "df=pd.read_csv(\"Housing_Modified.csv\")\n",
        "df.head()"
      ],
      "execution_count": 0,
      "outputs": [
        {
          "output_type": "execute_result",
          "data": {
            "text/html": [
              "<div>\n",
              "<style scoped>\n",
              "    .dataframe tbody tr th:only-of-type {\n",
              "        vertical-align: middle;\n",
              "    }\n",
              "\n",
              "    .dataframe tbody tr th {\n",
              "        vertical-align: top;\n",
              "    }\n",
              "\n",
              "    .dataframe thead th {\n",
              "        text-align: right;\n",
              "    }\n",
              "</style>\n",
              "<table border=\"1\" class=\"dataframe\">\n",
              "  <thead>\n",
              "    <tr style=\"text-align: right;\">\n",
              "      <th></th>\n",
              "      <th>price</th>\n",
              "      <th>lotsize</th>\n",
              "      <th>bedrooms</th>\n",
              "      <th>bathrms</th>\n",
              "      <th>stories</th>\n",
              "      <th>driveway</th>\n",
              "      <th>recroom</th>\n",
              "      <th>fullbase</th>\n",
              "      <th>gashw</th>\n",
              "      <th>airco</th>\n",
              "      <th>garagepl</th>\n",
              "      <th>prefarea</th>\n",
              "    </tr>\n",
              "  </thead>\n",
              "  <tbody>\n",
              "    <tr>\n",
              "      <th>0</th>\n",
              "      <td>42000.0</td>\n",
              "      <td>5850</td>\n",
              "      <td>3</td>\n",
              "      <td>1</td>\n",
              "      <td>two</td>\n",
              "      <td>yes</td>\n",
              "      <td>no</td>\n",
              "      <td>yes</td>\n",
              "      <td>no</td>\n",
              "      <td>no</td>\n",
              "      <td>1</td>\n",
              "      <td>no</td>\n",
              "    </tr>\n",
              "    <tr>\n",
              "      <th>1</th>\n",
              "      <td>38500.0</td>\n",
              "      <td>4000</td>\n",
              "      <td>2</td>\n",
              "      <td>1</td>\n",
              "      <td>one</td>\n",
              "      <td>yes</td>\n",
              "      <td>no</td>\n",
              "      <td>no</td>\n",
              "      <td>no</td>\n",
              "      <td>no</td>\n",
              "      <td>0</td>\n",
              "      <td>no</td>\n",
              "    </tr>\n",
              "    <tr>\n",
              "      <th>2</th>\n",
              "      <td>49500.0</td>\n",
              "      <td>3060</td>\n",
              "      <td>3</td>\n",
              "      <td>1</td>\n",
              "      <td>one</td>\n",
              "      <td>yes</td>\n",
              "      <td>no</td>\n",
              "      <td>no</td>\n",
              "      <td>no</td>\n",
              "      <td>no</td>\n",
              "      <td>0</td>\n",
              "      <td>no</td>\n",
              "    </tr>\n",
              "    <tr>\n",
              "      <th>3</th>\n",
              "      <td>60500.0</td>\n",
              "      <td>6650</td>\n",
              "      <td>3</td>\n",
              "      <td>1</td>\n",
              "      <td>two</td>\n",
              "      <td>yes</td>\n",
              "      <td>yes</td>\n",
              "      <td>no</td>\n",
              "      <td>no</td>\n",
              "      <td>no</td>\n",
              "      <td>0</td>\n",
              "      <td>no</td>\n",
              "    </tr>\n",
              "    <tr>\n",
              "      <th>4</th>\n",
              "      <td>61000.0</td>\n",
              "      <td>6360</td>\n",
              "      <td>2</td>\n",
              "      <td>1</td>\n",
              "      <td>one</td>\n",
              "      <td>yes</td>\n",
              "      <td>no</td>\n",
              "      <td>no</td>\n",
              "      <td>no</td>\n",
              "      <td>no</td>\n",
              "      <td>0</td>\n",
              "      <td>no</td>\n",
              "    </tr>\n",
              "  </tbody>\n",
              "</table>\n",
              "</div>"
            ],
            "text/plain": [
              "     price  lotsize  bedrooms  bathrms  ... gashw airco garagepl prefarea\n",
              "0  42000.0     5850         3        1  ...    no    no        1       no\n",
              "1  38500.0     4000         2        1  ...    no    no        0       no\n",
              "2  49500.0     3060         3        1  ...    no    no        0       no\n",
              "3  60500.0     6650         3        1  ...    no    no        0       no\n",
              "4  61000.0     6360         2        1  ...    no    no        0       no\n",
              "\n",
              "[5 rows x 12 columns]"
            ]
          },
          "metadata": {
            "tags": []
          },
          "execution_count": 2
        }
      ]
    },
    {
      "cell_type": "code",
      "metadata": {
        "id": "n0tgqnx-RgPe",
        "colab_type": "code",
        "colab": {}
      },
      "source": [
        ""
      ],
      "execution_count": 0,
      "outputs": []
    },
    {
      "cell_type": "code",
      "metadata": {
        "id": "VxkfChsdS0qp",
        "colab_type": "code",
        "outputId": "740cd159-6eea-42a4-f58d-ad72f0d419cd",
        "colab": {
          "base_uri": "https://localhost:8080/",
          "height": 68
        }
      },
      "source": [
        "#check the data exploration\n",
        "df.columns"
      ],
      "execution_count": 0,
      "outputs": [
        {
          "output_type": "execute_result",
          "data": {
            "text/plain": [
              "Index(['price', 'lotsize', 'bedrooms', 'bathrms', 'stories', 'driveway',\n",
              "       'recroom', 'fullbase', 'gashw', 'airco', 'garagepl', 'prefarea'],\n",
              "      dtype='object')"
            ]
          },
          "metadata": {
            "tags": []
          },
          "execution_count": 3
        }
      ]
    },
    {
      "cell_type": "code",
      "metadata": {
        "id": "_nhSZudGS_L-",
        "colab_type": "code",
        "outputId": "017071d8-fcc4-4f43-c7f7-77d071efc50e",
        "colab": {
          "base_uri": "https://localhost:8080/",
          "height": 34
        }
      },
      "source": [
        "#check the dimention\n",
        "df.shape"
      ],
      "execution_count": 0,
      "outputs": [
        {
          "output_type": "execute_result",
          "data": {
            "text/plain": [
              "(546, 12)"
            ]
          },
          "metadata": {
            "tags": []
          },
          "execution_count": 4
        }
      ]
    },
    {
      "cell_type": "code",
      "metadata": {
        "id": "KIwMfMuyTFUH",
        "colab_type": "code",
        "outputId": "a95cd5a3-5793-49e7-8bbf-958d6c014b15",
        "colab": {
          "base_uri": "https://localhost:8080/",
          "height": 306
        }
      },
      "source": [
        "# check the statistical summery of the dataset\n",
        "df.info()"
      ],
      "execution_count": 0,
      "outputs": [
        {
          "output_type": "stream",
          "text": [
            "<class 'pandas.core.frame.DataFrame'>\n",
            "RangeIndex: 546 entries, 0 to 545\n",
            "Data columns (total 12 columns):\n",
            "price       546 non-null float64\n",
            "lotsize     546 non-null int64\n",
            "bedrooms    546 non-null int64\n",
            "bathrms     546 non-null int64\n",
            "stories     546 non-null object\n",
            "driveway    546 non-null object\n",
            "recroom     546 non-null object\n",
            "fullbase    546 non-null object\n",
            "gashw       546 non-null object\n",
            "airco       546 non-null object\n",
            "garagepl    546 non-null int64\n",
            "prefarea    546 non-null object\n",
            "dtypes: float64(1), int64(4), object(7)\n",
            "memory usage: 51.3+ KB\n"
          ],
          "name": "stdout"
        }
      ]
    },
    {
      "cell_type": "code",
      "metadata": {
        "id": "xvK0BxoHTRs2",
        "colab_type": "code",
        "outputId": "925d71a1-8317-4eb9-9b77-7bbdc977ab4a",
        "colab": {
          "base_uri": "https://localhost:8080/",
          "height": 238
        }
      },
      "source": [
        "# check dataset has any null value or not\n",
        "df.isnull().any()"
      ],
      "execution_count": 0,
      "outputs": [
        {
          "output_type": "execute_result",
          "data": {
            "text/plain": [
              "price       False\n",
              "lotsize     False\n",
              "bedrooms    False\n",
              "bathrms     False\n",
              "stories     False\n",
              "driveway    False\n",
              "recroom     False\n",
              "fullbase    False\n",
              "gashw       False\n",
              "airco       False\n",
              "garagepl    False\n",
              "prefarea    False\n",
              "dtype: bool"
            ]
          },
          "metadata": {
            "tags": []
          },
          "execution_count": 7
        }
      ]
    },
    {
      "cell_type": "code",
      "metadata": {
        "id": "Dx-6-3ryTbFX",
        "colab_type": "code",
        "colab": {}
      },
      "source": [
        "from sklearn import preprocessing \n",
        "lb=preprocessing.LabelBinarizer()\n",
        "df.driveway=lb.fit_transform(df.driveway)\n",
        "df.recroom=lb.fit_transform(df.recroom)\n",
        "df.fullbase=lb.fit_transform(df.fullbase)\n",
        "df.gashw=lb.fit_transform(df.gashw)\n",
        "df.airco=lb.fit_transform(df.airco)\n",
        "df.prefarea=lb.fit_transform(df.prefarea)"
      ],
      "execution_count": 0,
      "outputs": []
    },
    {
      "cell_type": "code",
      "metadata": {
        "id": "1BlQlh-5V4E7",
        "colab_type": "code",
        "outputId": "196cd82d-76ff-4d6d-dd05-fee655e649ad",
        "colab": {
          "base_uri": "https://localhost:8080/",
          "height": 306
        }
      },
      "source": [
        "#after preprocessing the dataset statistical summery \n",
        "df.info()"
      ],
      "execution_count": 0,
      "outputs": [
        {
          "output_type": "stream",
          "text": [
            "<class 'pandas.core.frame.DataFrame'>\n",
            "RangeIndex: 546 entries, 0 to 545\n",
            "Data columns (total 12 columns):\n",
            "price       546 non-null float64\n",
            "lotsize     546 non-null int64\n",
            "bedrooms    546 non-null int64\n",
            "bathrms     546 non-null int64\n",
            "stories     546 non-null object\n",
            "driveway    546 non-null int64\n",
            "recroom     546 non-null int64\n",
            "fullbase    546 non-null int64\n",
            "gashw       546 non-null int64\n",
            "airco       546 non-null int64\n",
            "garagepl    546 non-null int64\n",
            "prefarea    546 non-null int64\n",
            "dtypes: float64(1), int64(10), object(1)\n",
            "memory usage: 51.3+ KB\n"
          ],
          "name": "stdout"
        }
      ]
    },
    {
      "cell_type": "code",
      "metadata": {
        "id": "-5RfBdCNUgng",
        "colab_type": "code",
        "outputId": "becd5286-c33f-4b0e-bf6c-04585638b512",
        "colab": {
          "base_uri": "https://localhost:8080/",
          "height": 204
        }
      },
      "source": [
        "# after preprocessing the dataset\n",
        "df.head()"
      ],
      "execution_count": 0,
      "outputs": [
        {
          "output_type": "execute_result",
          "data": {
            "text/html": [
              "<div>\n",
              "<style scoped>\n",
              "    .dataframe tbody tr th:only-of-type {\n",
              "        vertical-align: middle;\n",
              "    }\n",
              "\n",
              "    .dataframe tbody tr th {\n",
              "        vertical-align: top;\n",
              "    }\n",
              "\n",
              "    .dataframe thead th {\n",
              "        text-align: right;\n",
              "    }\n",
              "</style>\n",
              "<table border=\"1\" class=\"dataframe\">\n",
              "  <thead>\n",
              "    <tr style=\"text-align: right;\">\n",
              "      <th></th>\n",
              "      <th>price</th>\n",
              "      <th>lotsize</th>\n",
              "      <th>bedrooms</th>\n",
              "      <th>bathrms</th>\n",
              "      <th>stories</th>\n",
              "      <th>driveway</th>\n",
              "      <th>recroom</th>\n",
              "      <th>fullbase</th>\n",
              "      <th>gashw</th>\n",
              "      <th>airco</th>\n",
              "      <th>garagepl</th>\n",
              "      <th>prefarea</th>\n",
              "    </tr>\n",
              "  </thead>\n",
              "  <tbody>\n",
              "    <tr>\n",
              "      <th>0</th>\n",
              "      <td>42000.0</td>\n",
              "      <td>5850</td>\n",
              "      <td>3</td>\n",
              "      <td>1</td>\n",
              "      <td>two</td>\n",
              "      <td>1</td>\n",
              "      <td>0</td>\n",
              "      <td>1</td>\n",
              "      <td>0</td>\n",
              "      <td>0</td>\n",
              "      <td>1</td>\n",
              "      <td>0</td>\n",
              "    </tr>\n",
              "    <tr>\n",
              "      <th>1</th>\n",
              "      <td>38500.0</td>\n",
              "      <td>4000</td>\n",
              "      <td>2</td>\n",
              "      <td>1</td>\n",
              "      <td>one</td>\n",
              "      <td>1</td>\n",
              "      <td>0</td>\n",
              "      <td>0</td>\n",
              "      <td>0</td>\n",
              "      <td>0</td>\n",
              "      <td>0</td>\n",
              "      <td>0</td>\n",
              "    </tr>\n",
              "    <tr>\n",
              "      <th>2</th>\n",
              "      <td>49500.0</td>\n",
              "      <td>3060</td>\n",
              "      <td>3</td>\n",
              "      <td>1</td>\n",
              "      <td>one</td>\n",
              "      <td>1</td>\n",
              "      <td>0</td>\n",
              "      <td>0</td>\n",
              "      <td>0</td>\n",
              "      <td>0</td>\n",
              "      <td>0</td>\n",
              "      <td>0</td>\n",
              "    </tr>\n",
              "    <tr>\n",
              "      <th>3</th>\n",
              "      <td>60500.0</td>\n",
              "      <td>6650</td>\n",
              "      <td>3</td>\n",
              "      <td>1</td>\n",
              "      <td>two</td>\n",
              "      <td>1</td>\n",
              "      <td>1</td>\n",
              "      <td>0</td>\n",
              "      <td>0</td>\n",
              "      <td>0</td>\n",
              "      <td>0</td>\n",
              "      <td>0</td>\n",
              "    </tr>\n",
              "    <tr>\n",
              "      <th>4</th>\n",
              "      <td>61000.0</td>\n",
              "      <td>6360</td>\n",
              "      <td>2</td>\n",
              "      <td>1</td>\n",
              "      <td>one</td>\n",
              "      <td>1</td>\n",
              "      <td>0</td>\n",
              "      <td>0</td>\n",
              "      <td>0</td>\n",
              "      <td>0</td>\n",
              "      <td>0</td>\n",
              "      <td>0</td>\n",
              "    </tr>\n",
              "  </tbody>\n",
              "</table>\n",
              "</div>"
            ],
            "text/plain": [
              "     price  lotsize  bedrooms  bathrms  ... gashw  airco  garagepl  prefarea\n",
              "0  42000.0     5850         3        1  ...     0      0         1         0\n",
              "1  38500.0     4000         2        1  ...     0      0         0         0\n",
              "2  49500.0     3060         3        1  ...     0      0         0         0\n",
              "3  60500.0     6650         3        1  ...     0      0         0         0\n",
              "4  61000.0     6360         2        1  ...     0      0         0         0\n",
              "\n",
              "[5 rows x 12 columns]"
            ]
          },
          "metadata": {
            "tags": []
          },
          "execution_count": 10
        }
      ]
    },
    {
      "cell_type": "code",
      "metadata": {
        "id": "APwlDqthWJDm",
        "colab_type": "code",
        "outputId": "9af9a289-1f69-46d0-abbb-dd9fc2d9a2c2",
        "colab": {
          "base_uri": "https://localhost:8080/",
          "height": 473
        }
      },
      "source": [
        "#one hot encoding\n",
        "#dummy variable\n",
        "df.stories_=pd.get_dummies((df.stories),prefix=\"stories\")\n",
        "df=pd.concat([df,df.stories_],axis=1)\n",
        "del(df[\"stories\"])\n",
        "df"
      ],
      "execution_count": 0,
      "outputs": [
        {
          "output_type": "stream",
          "text": [
            "/usr/local/lib/python3.6/dist-packages/ipykernel_launcher.py:1: UserWarning: Pandas doesn't allow columns to be created via a new attribute name - see https://pandas.pydata.org/pandas-docs/stable/indexing.html#attribute-access\n",
            "  \"\"\"Entry point for launching an IPython kernel.\n"
          ],
          "name": "stderr"
        },
        {
          "output_type": "execute_result",
          "data": {
            "text/html": [
              "<div>\n",
              "<style scoped>\n",
              "    .dataframe tbody tr th:only-of-type {\n",
              "        vertical-align: middle;\n",
              "    }\n",
              "\n",
              "    .dataframe tbody tr th {\n",
              "        vertical-align: top;\n",
              "    }\n",
              "\n",
              "    .dataframe thead th {\n",
              "        text-align: right;\n",
              "    }\n",
              "</style>\n",
              "<table border=\"1\" class=\"dataframe\">\n",
              "  <thead>\n",
              "    <tr style=\"text-align: right;\">\n",
              "      <th></th>\n",
              "      <th>price</th>\n",
              "      <th>lotsize</th>\n",
              "      <th>bedrooms</th>\n",
              "      <th>bathrms</th>\n",
              "      <th>driveway</th>\n",
              "      <th>recroom</th>\n",
              "      <th>fullbase</th>\n",
              "      <th>gashw</th>\n",
              "      <th>airco</th>\n",
              "      <th>garagepl</th>\n",
              "      <th>prefarea</th>\n",
              "      <th>stories_four</th>\n",
              "      <th>stories_one</th>\n",
              "      <th>stories_three</th>\n",
              "      <th>stories_two</th>\n",
              "    </tr>\n",
              "  </thead>\n",
              "  <tbody>\n",
              "    <tr>\n",
              "      <th>0</th>\n",
              "      <td>42000.0</td>\n",
              "      <td>5850</td>\n",
              "      <td>3</td>\n",
              "      <td>1</td>\n",
              "      <td>1</td>\n",
              "      <td>0</td>\n",
              "      <td>1</td>\n",
              "      <td>0</td>\n",
              "      <td>0</td>\n",
              "      <td>1</td>\n",
              "      <td>0</td>\n",
              "      <td>0</td>\n",
              "      <td>0</td>\n",
              "      <td>0</td>\n",
              "      <td>1</td>\n",
              "    </tr>\n",
              "    <tr>\n",
              "      <th>1</th>\n",
              "      <td>38500.0</td>\n",
              "      <td>4000</td>\n",
              "      <td>2</td>\n",
              "      <td>1</td>\n",
              "      <td>1</td>\n",
              "      <td>0</td>\n",
              "      <td>0</td>\n",
              "      <td>0</td>\n",
              "      <td>0</td>\n",
              "      <td>0</td>\n",
              "      <td>0</td>\n",
              "      <td>0</td>\n",
              "      <td>1</td>\n",
              "      <td>0</td>\n",
              "      <td>0</td>\n",
              "    </tr>\n",
              "    <tr>\n",
              "      <th>2</th>\n",
              "      <td>49500.0</td>\n",
              "      <td>3060</td>\n",
              "      <td>3</td>\n",
              "      <td>1</td>\n",
              "      <td>1</td>\n",
              "      <td>0</td>\n",
              "      <td>0</td>\n",
              "      <td>0</td>\n",
              "      <td>0</td>\n",
              "      <td>0</td>\n",
              "      <td>0</td>\n",
              "      <td>0</td>\n",
              "      <td>1</td>\n",
              "      <td>0</td>\n",
              "      <td>0</td>\n",
              "    </tr>\n",
              "    <tr>\n",
              "      <th>3</th>\n",
              "      <td>60500.0</td>\n",
              "      <td>6650</td>\n",
              "      <td>3</td>\n",
              "      <td>1</td>\n",
              "      <td>1</td>\n",
              "      <td>1</td>\n",
              "      <td>0</td>\n",
              "      <td>0</td>\n",
              "      <td>0</td>\n",
              "      <td>0</td>\n",
              "      <td>0</td>\n",
              "      <td>0</td>\n",
              "      <td>0</td>\n",
              "      <td>0</td>\n",
              "      <td>1</td>\n",
              "    </tr>\n",
              "    <tr>\n",
              "      <th>4</th>\n",
              "      <td>61000.0</td>\n",
              "      <td>6360</td>\n",
              "      <td>2</td>\n",
              "      <td>1</td>\n",
              "      <td>1</td>\n",
              "      <td>0</td>\n",
              "      <td>0</td>\n",
              "      <td>0</td>\n",
              "      <td>0</td>\n",
              "      <td>0</td>\n",
              "      <td>0</td>\n",
              "      <td>0</td>\n",
              "      <td>1</td>\n",
              "      <td>0</td>\n",
              "      <td>0</td>\n",
              "    </tr>\n",
              "    <tr>\n",
              "      <th>...</th>\n",
              "      <td>...</td>\n",
              "      <td>...</td>\n",
              "      <td>...</td>\n",
              "      <td>...</td>\n",
              "      <td>...</td>\n",
              "      <td>...</td>\n",
              "      <td>...</td>\n",
              "      <td>...</td>\n",
              "      <td>...</td>\n",
              "      <td>...</td>\n",
              "      <td>...</td>\n",
              "      <td>...</td>\n",
              "      <td>...</td>\n",
              "      <td>...</td>\n",
              "      <td>...</td>\n",
              "    </tr>\n",
              "    <tr>\n",
              "      <th>541</th>\n",
              "      <td>91500.0</td>\n",
              "      <td>4800</td>\n",
              "      <td>3</td>\n",
              "      <td>2</td>\n",
              "      <td>1</td>\n",
              "      <td>1</td>\n",
              "      <td>0</td>\n",
              "      <td>0</td>\n",
              "      <td>1</td>\n",
              "      <td>0</td>\n",
              "      <td>0</td>\n",
              "      <td>1</td>\n",
              "      <td>0</td>\n",
              "      <td>0</td>\n",
              "      <td>0</td>\n",
              "    </tr>\n",
              "    <tr>\n",
              "      <th>542</th>\n",
              "      <td>94000.0</td>\n",
              "      <td>6000</td>\n",
              "      <td>3</td>\n",
              "      <td>2</td>\n",
              "      <td>1</td>\n",
              "      <td>0</td>\n",
              "      <td>0</td>\n",
              "      <td>0</td>\n",
              "      <td>1</td>\n",
              "      <td>0</td>\n",
              "      <td>0</td>\n",
              "      <td>1</td>\n",
              "      <td>0</td>\n",
              "      <td>0</td>\n",
              "      <td>0</td>\n",
              "    </tr>\n",
              "    <tr>\n",
              "      <th>543</th>\n",
              "      <td>103000.0</td>\n",
              "      <td>6000</td>\n",
              "      <td>3</td>\n",
              "      <td>2</td>\n",
              "      <td>1</td>\n",
              "      <td>1</td>\n",
              "      <td>0</td>\n",
              "      <td>0</td>\n",
              "      <td>1</td>\n",
              "      <td>1</td>\n",
              "      <td>0</td>\n",
              "      <td>1</td>\n",
              "      <td>0</td>\n",
              "      <td>0</td>\n",
              "      <td>0</td>\n",
              "    </tr>\n",
              "    <tr>\n",
              "      <th>544</th>\n",
              "      <td>105000.0</td>\n",
              "      <td>6000</td>\n",
              "      <td>3</td>\n",
              "      <td>2</td>\n",
              "      <td>1</td>\n",
              "      <td>1</td>\n",
              "      <td>0</td>\n",
              "      <td>0</td>\n",
              "      <td>1</td>\n",
              "      <td>1</td>\n",
              "      <td>0</td>\n",
              "      <td>0</td>\n",
              "      <td>0</td>\n",
              "      <td>0</td>\n",
              "      <td>1</td>\n",
              "    </tr>\n",
              "    <tr>\n",
              "      <th>545</th>\n",
              "      <td>105000.0</td>\n",
              "      <td>6000</td>\n",
              "      <td>3</td>\n",
              "      <td>1</td>\n",
              "      <td>1</td>\n",
              "      <td>0</td>\n",
              "      <td>0</td>\n",
              "      <td>0</td>\n",
              "      <td>1</td>\n",
              "      <td>1</td>\n",
              "      <td>0</td>\n",
              "      <td>0</td>\n",
              "      <td>0</td>\n",
              "      <td>0</td>\n",
              "      <td>1</td>\n",
              "    </tr>\n",
              "  </tbody>\n",
              "</table>\n",
              "<p>546 rows × 15 columns</p>\n",
              "</div>"
            ],
            "text/plain": [
              "        price  lotsize  bedrooms  ...  stories_one  stories_three  stories_two\n",
              "0     42000.0     5850         3  ...            0              0            1\n",
              "1     38500.0     4000         2  ...            1              0            0\n",
              "2     49500.0     3060         3  ...            1              0            0\n",
              "3     60500.0     6650         3  ...            0              0            1\n",
              "4     61000.0     6360         2  ...            1              0            0\n",
              "..        ...      ...       ...  ...          ...            ...          ...\n",
              "541   91500.0     4800         3  ...            0              0            0\n",
              "542   94000.0     6000         3  ...            0              0            0\n",
              "543  103000.0     6000         3  ...            0              0            0\n",
              "544  105000.0     6000         3  ...            0              0            1\n",
              "545  105000.0     6000         3  ...            0              0            1\n",
              "\n",
              "[546 rows x 15 columns]"
            ]
          },
          "metadata": {
            "tags": []
          },
          "execution_count": 11
        }
      ]
    },
    {
      "cell_type": "code",
      "metadata": {
        "id": "JIjRpnqpaU3C",
        "colab_type": "code",
        "outputId": "b0cf9352-599e-4210-c26b-e07850e8fd8a",
        "colab": {
          "base_uri": "https://localhost:8080/",
          "height": 357
        }
      },
      "source": [
        "#after applying get_dummies summery ofstatistics\n",
        "df.info()"
      ],
      "execution_count": 0,
      "outputs": [
        {
          "output_type": "stream",
          "text": [
            "<class 'pandas.core.frame.DataFrame'>\n",
            "RangeIndex: 546 entries, 0 to 545\n",
            "Data columns (total 15 columns):\n",
            "price            546 non-null float64\n",
            "lotsize          546 non-null int64\n",
            "bedrooms         546 non-null int64\n",
            "bathrms          546 non-null int64\n",
            "driveway         546 non-null int64\n",
            "recroom          546 non-null int64\n",
            "fullbase         546 non-null int64\n",
            "gashw            546 non-null int64\n",
            "airco            546 non-null int64\n",
            "garagepl         546 non-null int64\n",
            "prefarea         546 non-null int64\n",
            "stories_four     546 non-null uint8\n",
            "stories_one      546 non-null uint8\n",
            "stories_three    546 non-null uint8\n",
            "stories_two      546 non-null uint8\n",
            "dtypes: float64(1), int64(10), uint8(4)\n",
            "memory usage: 49.2 KB\n"
          ],
          "name": "stdout"
        }
      ]
    },
    {
      "cell_type": "code",
      "metadata": {
        "id": "u2vHrlnQWVNz",
        "colab_type": "code",
        "outputId": "d0091126-8daf-41fb-b80e-9a82e7d89d92",
        "colab": {
          "base_uri": "https://localhost:8080/",
          "height": 534
        }
      },
      "source": [
        "df.corr()"
      ],
      "execution_count": 0,
      "outputs": [
        {
          "output_type": "execute_result",
          "data": {
            "text/html": [
              "<div>\n",
              "<style scoped>\n",
              "    .dataframe tbody tr th:only-of-type {\n",
              "        vertical-align: middle;\n",
              "    }\n",
              "\n",
              "    .dataframe tbody tr th {\n",
              "        vertical-align: top;\n",
              "    }\n",
              "\n",
              "    .dataframe thead th {\n",
              "        text-align: right;\n",
              "    }\n",
              "</style>\n",
              "<table border=\"1\" class=\"dataframe\">\n",
              "  <thead>\n",
              "    <tr style=\"text-align: right;\">\n",
              "      <th></th>\n",
              "      <th>price</th>\n",
              "      <th>lotsize</th>\n",
              "      <th>bedrooms</th>\n",
              "      <th>bathrms</th>\n",
              "      <th>driveway</th>\n",
              "      <th>recroom</th>\n",
              "      <th>fullbase</th>\n",
              "      <th>gashw</th>\n",
              "      <th>airco</th>\n",
              "      <th>garagepl</th>\n",
              "      <th>prefarea</th>\n",
              "      <th>stories_four</th>\n",
              "      <th>stories_one</th>\n",
              "      <th>stories_three</th>\n",
              "      <th>stories_two</th>\n",
              "    </tr>\n",
              "  </thead>\n",
              "  <tbody>\n",
              "    <tr>\n",
              "      <th>price</th>\n",
              "      <td>1.000000</td>\n",
              "      <td>0.535796</td>\n",
              "      <td>0.366447</td>\n",
              "      <td>0.516719</td>\n",
              "      <td>0.297167</td>\n",
              "      <td>0.254960</td>\n",
              "      <td>0.186218</td>\n",
              "      <td>0.092837</td>\n",
              "      <td>0.453347</td>\n",
              "      <td>0.383302</td>\n",
              "      <td>0.329074</td>\n",
              "      <td>0.372281</td>\n",
              "      <td>-0.270058</td>\n",
              "      <td>0.138254</td>\n",
              "      <td>-0.002089</td>\n",
              "    </tr>\n",
              "    <tr>\n",
              "      <th>lotsize</th>\n",
              "      <td>0.535796</td>\n",
              "      <td>1.000000</td>\n",
              "      <td>0.151851</td>\n",
              "      <td>0.193833</td>\n",
              "      <td>0.288778</td>\n",
              "      <td>0.140327</td>\n",
              "      <td>0.047487</td>\n",
              "      <td>-0.009201</td>\n",
              "      <td>0.221765</td>\n",
              "      <td>0.352872</td>\n",
              "      <td>0.234782</td>\n",
              "      <td>0.178354</td>\n",
              "      <td>0.054348</td>\n",
              "      <td>0.020567</td>\n",
              "      <td>-0.159612</td>\n",
              "    </tr>\n",
              "    <tr>\n",
              "      <th>bedrooms</th>\n",
              "      <td>0.366447</td>\n",
              "      <td>0.151851</td>\n",
              "      <td>1.000000</td>\n",
              "      <td>0.373769</td>\n",
              "      <td>-0.011996</td>\n",
              "      <td>0.080492</td>\n",
              "      <td>0.097201</td>\n",
              "      <td>0.046028</td>\n",
              "      <td>0.160412</td>\n",
              "      <td>0.139117</td>\n",
              "      <td>0.078953</td>\n",
              "      <td>0.145525</td>\n",
              "      <td>-0.509974</td>\n",
              "      <td>0.099150</td>\n",
              "      <td>0.377424</td>\n",
              "    </tr>\n",
              "    <tr>\n",
              "      <th>bathrms</th>\n",
              "      <td>0.516719</td>\n",
              "      <td>0.193833</td>\n",
              "      <td>0.373769</td>\n",
              "      <td>1.000000</td>\n",
              "      <td>0.041955</td>\n",
              "      <td>0.126892</td>\n",
              "      <td>0.102791</td>\n",
              "      <td>0.067365</td>\n",
              "      <td>0.184955</td>\n",
              "      <td>0.178178</td>\n",
              "      <td>0.064013</td>\n",
              "      <td>0.281003</td>\n",
              "      <td>-0.250784</td>\n",
              "      <td>0.036027</td>\n",
              "      <td>0.080982</td>\n",
              "    </tr>\n",
              "    <tr>\n",
              "      <th>driveway</th>\n",
              "      <td>0.297167</td>\n",
              "      <td>0.288778</td>\n",
              "      <td>-0.011996</td>\n",
              "      <td>0.041955</td>\n",
              "      <td>1.000000</td>\n",
              "      <td>0.091959</td>\n",
              "      <td>0.043428</td>\n",
              "      <td>-0.011942</td>\n",
              "      <td>0.106290</td>\n",
              "      <td>0.203682</td>\n",
              "      <td>0.199378</td>\n",
              "      <td>0.115453</td>\n",
              "      <td>-0.053249</td>\n",
              "      <td>0.073533</td>\n",
              "      <td>-0.047074</td>\n",
              "    </tr>\n",
              "    <tr>\n",
              "      <th>recroom</th>\n",
              "      <td>0.254960</td>\n",
              "      <td>0.140327</td>\n",
              "      <td>0.080492</td>\n",
              "      <td>0.126892</td>\n",
              "      <td>0.091959</td>\n",
              "      <td>1.000000</td>\n",
              "      <td>0.372434</td>\n",
              "      <td>-0.010119</td>\n",
              "      <td>0.136626</td>\n",
              "      <td>0.038122</td>\n",
              "      <td>0.161292</td>\n",
              "      <td>0.067567</td>\n",
              "      <td>-0.022632</td>\n",
              "      <td>-0.038733</td>\n",
              "      <td>0.006938</td>\n",
              "    </tr>\n",
              "    <tr>\n",
              "      <th>fullbase</th>\n",
              "      <td>0.186218</td>\n",
              "      <td>0.047487</td>\n",
              "      <td>0.097201</td>\n",
              "      <td>0.102791</td>\n",
              "      <td>0.043428</td>\n",
              "      <td>0.372434</td>\n",
              "      <td>1.000000</td>\n",
              "      <td>0.004677</td>\n",
              "      <td>0.045248</td>\n",
              "      <td>0.052524</td>\n",
              "      <td>0.228651</td>\n",
              "      <td>-0.165285</td>\n",
              "      <td>0.059154</td>\n",
              "      <td>-0.132540</td>\n",
              "      <td>0.098694</td>\n",
              "    </tr>\n",
              "    <tr>\n",
              "      <th>gashw</th>\n",
              "      <td>0.092837</td>\n",
              "      <td>-0.009201</td>\n",
              "      <td>0.046028</td>\n",
              "      <td>0.067365</td>\n",
              "      <td>-0.011942</td>\n",
              "      <td>-0.010119</td>\n",
              "      <td>0.004677</td>\n",
              "      <td>1.000000</td>\n",
              "      <td>-0.130350</td>\n",
              "      <td>0.068144</td>\n",
              "      <td>-0.059170</td>\n",
              "      <td>-0.062416</td>\n",
              "      <td>-0.060336</td>\n",
              "      <td>0.072922</td>\n",
              "      <td>0.054823</td>\n",
              "    </tr>\n",
              "    <tr>\n",
              "      <th>airco</th>\n",
              "      <td>0.453347</td>\n",
              "      <td>0.221765</td>\n",
              "      <td>0.160412</td>\n",
              "      <td>0.184955</td>\n",
              "      <td>0.106290</td>\n",
              "      <td>0.136626</td>\n",
              "      <td>0.045248</td>\n",
              "      <td>-0.130350</td>\n",
              "      <td>1.000000</td>\n",
              "      <td>0.156596</td>\n",
              "      <td>0.115626</td>\n",
              "      <td>0.298887</td>\n",
              "      <td>-0.143174</td>\n",
              "      <td>0.110682</td>\n",
              "      <td>-0.074706</td>\n",
              "    </tr>\n",
              "    <tr>\n",
              "      <th>garagepl</th>\n",
              "      <td>0.383302</td>\n",
              "      <td>0.352872</td>\n",
              "      <td>0.139117</td>\n",
              "      <td>0.178178</td>\n",
              "      <td>0.203682</td>\n",
              "      <td>0.038122</td>\n",
              "      <td>0.052524</td>\n",
              "      <td>0.068144</td>\n",
              "      <td>0.156596</td>\n",
              "      <td>1.000000</td>\n",
              "      <td>0.092364</td>\n",
              "      <td>0.126112</td>\n",
              "      <td>0.016610</td>\n",
              "      <td>-0.079170</td>\n",
              "      <td>-0.041931</td>\n",
              "    </tr>\n",
              "    <tr>\n",
              "      <th>prefarea</th>\n",
              "      <td>0.329074</td>\n",
              "      <td>0.234782</td>\n",
              "      <td>0.078953</td>\n",
              "      <td>0.064013</td>\n",
              "      <td>0.199378</td>\n",
              "      <td>0.161292</td>\n",
              "      <td>0.228651</td>\n",
              "      <td>-0.059170</td>\n",
              "      <td>0.115626</td>\n",
              "      <td>0.092364</td>\n",
              "      <td>1.000000</td>\n",
              "      <td>-0.010035</td>\n",
              "      <td>-0.010668</td>\n",
              "      <td>0.143067</td>\n",
              "      <td>-0.059240</td>\n",
              "    </tr>\n",
              "    <tr>\n",
              "      <th>stories_four</th>\n",
              "      <td>0.372281</td>\n",
              "      <td>0.178354</td>\n",
              "      <td>0.145525</td>\n",
              "      <td>0.281003</td>\n",
              "      <td>0.115453</td>\n",
              "      <td>0.067567</td>\n",
              "      <td>-0.165285</td>\n",
              "      <td>-0.062416</td>\n",
              "      <td>0.298887</td>\n",
              "      <td>0.126112</td>\n",
              "      <td>-0.010035</td>\n",
              "      <td>1.000000</td>\n",
              "      <td>-0.240361</td>\n",
              "      <td>-0.080113</td>\n",
              "      <td>-0.250472</td>\n",
              "    </tr>\n",
              "    <tr>\n",
              "      <th>stories_one</th>\n",
              "      <td>-0.270058</td>\n",
              "      <td>0.054348</td>\n",
              "      <td>-0.509974</td>\n",
              "      <td>-0.250784</td>\n",
              "      <td>-0.053249</td>\n",
              "      <td>-0.022632</td>\n",
              "      <td>0.059154</td>\n",
              "      <td>-0.060336</td>\n",
              "      <td>-0.143174</td>\n",
              "      <td>0.016610</td>\n",
              "      <td>-0.010668</td>\n",
              "      <td>-0.240361</td>\n",
              "      <td>1.000000</td>\n",
              "      <td>-0.237177</td>\n",
              "      <td>-0.741533</td>\n",
              "    </tr>\n",
              "    <tr>\n",
              "      <th>stories_three</th>\n",
              "      <td>0.138254</td>\n",
              "      <td>0.020567</td>\n",
              "      <td>0.099150</td>\n",
              "      <td>0.036027</td>\n",
              "      <td>0.073533</td>\n",
              "      <td>-0.038733</td>\n",
              "      <td>-0.132540</td>\n",
              "      <td>0.072922</td>\n",
              "      <td>0.110682</td>\n",
              "      <td>-0.079170</td>\n",
              "      <td>0.143067</td>\n",
              "      <td>-0.080113</td>\n",
              "      <td>-0.237177</td>\n",
              "      <td>1.000000</td>\n",
              "      <td>-0.247154</td>\n",
              "    </tr>\n",
              "    <tr>\n",
              "      <th>stories_two</th>\n",
              "      <td>-0.002089</td>\n",
              "      <td>-0.159612</td>\n",
              "      <td>0.377424</td>\n",
              "      <td>0.080982</td>\n",
              "      <td>-0.047074</td>\n",
              "      <td>0.006938</td>\n",
              "      <td>0.098694</td>\n",
              "      <td>0.054823</td>\n",
              "      <td>-0.074706</td>\n",
              "      <td>-0.041931</td>\n",
              "      <td>-0.059240</td>\n",
              "      <td>-0.250472</td>\n",
              "      <td>-0.741533</td>\n",
              "      <td>-0.247154</td>\n",
              "      <td>1.000000</td>\n",
              "    </tr>\n",
              "  </tbody>\n",
              "</table>\n",
              "</div>"
            ],
            "text/plain": [
              "                  price   lotsize  ...  stories_three  stories_two\n",
              "price          1.000000  0.535796  ...       0.138254    -0.002089\n",
              "lotsize        0.535796  1.000000  ...       0.020567    -0.159612\n",
              "bedrooms       0.366447  0.151851  ...       0.099150     0.377424\n",
              "bathrms        0.516719  0.193833  ...       0.036027     0.080982\n",
              "driveway       0.297167  0.288778  ...       0.073533    -0.047074\n",
              "recroom        0.254960  0.140327  ...      -0.038733     0.006938\n",
              "fullbase       0.186218  0.047487  ...      -0.132540     0.098694\n",
              "gashw          0.092837 -0.009201  ...       0.072922     0.054823\n",
              "airco          0.453347  0.221765  ...       0.110682    -0.074706\n",
              "garagepl       0.383302  0.352872  ...      -0.079170    -0.041931\n",
              "prefarea       0.329074  0.234782  ...       0.143067    -0.059240\n",
              "stories_four   0.372281  0.178354  ...      -0.080113    -0.250472\n",
              "stories_one   -0.270058  0.054348  ...      -0.237177    -0.741533\n",
              "stories_three  0.138254  0.020567  ...       1.000000    -0.247154\n",
              "stories_two   -0.002089 -0.159612  ...      -0.247154     1.000000\n",
              "\n",
              "[15 rows x 15 columns]"
            ]
          },
          "metadata": {
            "tags": []
          },
          "execution_count": 13
        }
      ]
    },
    {
      "cell_type": "code",
      "metadata": {
        "id": "DFaUv8n9v_94",
        "colab_type": "code",
        "outputId": "539999c3-7678-42f1-dab1-77765777ffd6",
        "colab": {
          "base_uri": "https://localhost:8080/",
          "height": 341
        }
      },
      "source": [
        "import seaborn as sns\n",
        "sns.heatmap(df.corr(),square=True,annot=True,fmt=\".1f\")"
      ],
      "execution_count": 0,
      "outputs": [
        {
          "output_type": "execute_result",
          "data": {
            "text/plain": [
              "<matplotlib.axes._subplots.AxesSubplot at 0x7fb8dde53fd0>"
            ]
          },
          "metadata": {
            "tags": []
          },
          "execution_count": 14
        },
        {
          "output_type": "display_data",
          "data": {
            "image/png": "[encoded data removed]",
            "text/plain": [
              "<Figure size 432x288 with 2 Axes>"
            ]
          },
          "metadata": {
            "tags": []
          }
        }
      ]
    },
    {
      "cell_type": "code",
      "metadata": {
        "id": "9AYS_P93wPDD",
        "colab_type": "code",
        "outputId": "a28a952b-ed11-44fd-e33f-67d657339c1c",
        "colab": {
          "base_uri": "https://localhost:8080/",
          "height": 255
        }
      },
      "source": [
        "# create a list of independent variables\n",
        "independent_variables=[ 'lotsize', 'bedrooms', 'bathrms','driveway',\n",
        "       'recroom', 'fullbase', 'gashw', 'airco', 'garagepl', 'prefarea',\"stories_four\",\"stories_one\",\"stories_three\",\"stories_two\" ]\n",
        "                                                                                                     \n",
        "\n",
        "independent_variables             "
      ],
      "execution_count": 0,
      "outputs": [
        {
          "output_type": "execute_result",
          "data": {
            "text/plain": [
              "['lotsize',\n",
              " 'bedrooms',\n",
              " 'bathrms',\n",
              " 'driveway',\n",
              " 'recroom',\n",
              " 'fullbase',\n",
              " 'gashw',\n",
              " 'airco',\n",
              " 'garagepl',\n",
              " 'prefarea',\n",
              " 'stories_four',\n",
              " 'stories_one',\n",
              " 'stories_three',\n",
              " 'stories_two']"
            ]
          },
          "metadata": {
            "tags": []
          },
          "execution_count": 15
        }
      ]
    },
    {
      "cell_type": "code",
      "metadata": {
        "id": "RFg9P4Ggy_Ps",
        "colab_type": "code",
        "outputId": "d97bd998-c1ff-47a5-a697-9ffef003aebb",
        "colab": {
          "base_uri": "https://localhost:8080/",
          "height": 122
        }
      },
      "source": [
        "# VIF Variance Inflation Factor\n",
        "# It is an indicator of multicollinearity\n",
        "# https://www.statsmodels.org/stable/generated/statsmodels.stats.outliers_influence.variance_inflation_factor.html\n",
        "\n",
        "from statsmodels.stats.outliers_influence import variance_inflation_factor\n",
        "X = df[independent_variables]\n",
        "y = df['price']\n",
        "\n",
        "thresh = 10  # It's an indicator of VIF\n",
        "\n",
        "for i in np.arange(0,len(independent_variables)):\n",
        "  vif = [variance_inflation_factor(X[independent_variables].values , ix)\n",
        "  for ix in range(X[independent_variables].shape[1])]\n",
        "  maxloc = vif.index(max(vif))\n",
        "  if max(vif) > thresh:\n",
        "    print('vif : ',vif)\n",
        "    print('dropping :',X[independent_variables].columns[maxloc],'index :',maxloc)\n",
        "    del independent_variables[maxloc]\n",
        "  else:\n",
        "    break\n",
        "\n",
        "print(\"Final Indpendent Variables : \",independent_variables)"
      ],
      "execution_count": 0,
      "outputs": [
        {
          "output_type": "stream",
          "text": [
            "vif :  [1.3704738112004569, 1.578326825971881, 1.2987779728705593, 1.1648811574651847, 1.2148620093192928, 1.3369114662383517, 1.053078869775805, 1.2195823546735252, 1.218832929061305, 1.181239434106175, 4.544836339845972, 11.781465345739338, 3.943698568447546, 17.220894903652624]\n",
            "dropping : stories_two index : 13\n",
            "vif :  [9.027672411240845, 12.40877864989557, 9.374682124313615, 6.79426994395169, 1.4753724454932144, 2.055797712632684, 1.103128332756141, 1.785054332017555, 1.9607784997238857, 1.5317205065647905, 1.4546157757803124, 1.8969940907498246, 1.278600527923588]\n",
            "dropping : bedrooms index : 1\n",
            "Final Indpendent Variables :  ['lotsize', 'bathrms', 'driveway', 'recroom', 'fullbase', 'gashw', 'airco', 'garagepl', 'prefarea', 'stories_four', 'stories_one', 'stories_three']\n"
          ],
          "name": "stdout"
        }
      ]
    },
    {
      "cell_type": "code",
      "metadata": {
        "id": "AlIxyZ65zMml",
        "colab_type": "code",
        "outputId": "c9644fae-4b9e-43e8-c872-ec51784f3ef8",
        "colab": {
          "base_uri": "https://localhost:8080/",
          "height": 85
        }
      },
      "source": [
        "independent_variables_final= ['lotsize', 'bathrms', 'driveway', 'recroom', 'fullbase', 'gashw', 'airco', 'garagepl', 'prefarea', 'stories_four', 'stories_one', 'stories_three']\n",
        "X=df[independent_variables_final]\n",
        "y=df[\"price\"]\n",
        "from sklearn.model_selection import train_test_split\n",
        "X_train,X_test,y_train,y_test=train_test_split(X,y,train_size=0.8,random_state=1)\n",
        "print(\"X_train shape\",X_train.shape)\n",
        "print(\"X_test shape\",X_test.shape)\n",
        "print(\"y_train shape\",y_train.shape)\n",
        "print(\"y_test shape\",y_test.shape)"
      ],
      "execution_count": 0,
      "outputs": [
        {
          "output_type": "stream",
          "text": [
            "X_train shape (436, 12)\n",
            "X_test shape (110, 12)\n",
            "y_train shape (436,)\n",
            "y_test shape (110,)\n"
          ],
          "name": "stdout"
        }
      ]
    },
    {
      "cell_type": "code",
      "metadata": {
        "id": "EYj98LLMxiws",
        "colab_type": "code",
        "outputId": "7e094b36-146e-4b9a-f5fe-c4c97b486ce7",
        "colab": {
          "base_uri": "https://localhost:8080/",
          "height": 153
        }
      },
      "source": [
        "!pip install -U statsmodels"
      ],
      "execution_count": 0,
      "outputs": [
        {
          "output_type": "stream",
          "text": [
            "Requirement already up-to-date: statsmodels in /usr/local/lib/python3.6/dist-packages (0.11.0)\n",
            "Requirement already satisfied, skipping upgrade: scipy>=1.0 in /usr/local/lib/python3.6/dist-packages (from statsmodels) (1.4.1)\n",
            "Requirement already satisfied, skipping upgrade: pandas>=0.21 in /usr/local/lib/python3.6/dist-packages (from statsmodels) (0.25.3)\n",
            "Requirement already satisfied, skipping upgrade: patsy>=0.5 in /usr/local/lib/python3.6/dist-packages (from statsmodels) (0.5.1)\n",
            "Requirement already satisfied, skipping upgrade: numpy>=1.14 in /usr/local/lib/python3.6/dist-packages (from statsmodels) (1.17.5)\n",
            "Requirement already satisfied, skipping upgrade: pytz>=2017.2 in /usr/local/lib/python3.6/dist-packages (from pandas>=0.21->statsmodels) (2018.9)\n",
            "Requirement already satisfied, skipping upgrade: python-dateutil>=2.6.1 in /usr/local/lib/python3.6/dist-packages (from pandas>=0.21->statsmodels) (2.6.1)\n",
            "Requirement already satisfied, skipping upgrade: six in /usr/local/lib/python3.6/dist-packages (from patsy>=0.5->statsmodels) (1.12.0)\n"
          ],
          "name": "stdout"
        }
      ]
    },
    {
      "cell_type": "code",
      "metadata": {
        "id": "rde3UtY1nzOD",
        "colab_type": "code",
        "outputId": "a2ad6d7f-d453-49d2-f85a-dd49a2a14600",
        "colab": {
          "base_uri": "https://localhost:8080/",
          "height": 34
        }
      },
      "source": [
        "!pip install--upgrade Cython"
      ],
      "execution_count": 0,
      "outputs": [
        {
          "output_type": "stream",
          "text": [
            "ERROR: unknown command \"install--upgrade\" - maybe you meant \"install\"\n"
          ],
          "name": "stdout"
        }
      ]
    },
    {
      "cell_type": "code",
      "metadata": {
        "id": "nrdt5QkFoWmq",
        "colab_type": "code",
        "colab": {}
      },
      "source": [
        "import statsmodels.api as sm\n",
        "lm=sm.OLS(y_train,X_train).fit()"
      ],
      "execution_count": 0,
      "outputs": []
    },
    {
      "cell_type": "code",
      "metadata": {
        "id": "MKshgq_EpUry",
        "colab_type": "code",
        "colab": {}
      },
      "source": [
        "lm.summary()"
      ],
      "execution_count": 0,
      "outputs": []
    },
    {
      "cell_type": "code",
      "metadata": {
        "id": "hbQ6VQ6OpYUA",
        "colab_type": "code",
        "outputId": "7b4edb70-7562-457c-a385-e6027a1b18cd",
        "colab": {
          "base_uri": "https://localhost:8080/",
          "height": 221
        }
      },
      "source": [
        "# Predict House Prices \n",
        "\n",
        "independent_variables"
      ],
      "execution_count": 0,
      "outputs": [
        {
          "output_type": "execute_result",
          "data": {
            "text/plain": [
              "['lotsize',\n",
              " 'bathrms',\n",
              " 'driveway',\n",
              " 'recroom',\n",
              " 'fullbase',\n",
              " 'gashw',\n",
              " 'airco',\n",
              " 'garagepl',\n",
              " 'prefarea',\n",
              " 'stories_four',\n",
              " 'stories_one',\n",
              " 'stories_three']"
            ]
          },
          "metadata": {
            "tags": []
          },
          "execution_count": 19
        }
      ]
    },
    {
      "cell_type": "code",
      "metadata": {
        "id": "5W-fsOBm-7gH",
        "colab_type": "code",
        "colab": {}
      },
      "source": [
        "import joblib"
      ],
      "execution_count": 0,
      "outputs": []
    },
    {
      "cell_type": "code",
      "metadata": {
        "id": "n51tVlH4-9BK",
        "colab_type": "code",
        "outputId": "f512699c-b288-4e05-a950-e6f124e1695e",
        "colab": {
          "base_uri": "https://localhost:8080/",
          "height": 34
        }
      },
      "source": [
        "joblib.dump(lm,\"house_price.pkl\")"
      ],
      "execution_count": 0,
      "outputs": [
        {
          "output_type": "execute_result",
          "data": {
            "text/plain": [
              "['house_price.pkl']"
            ]
          },
          "metadata": {
            "tags": []
          },
          "execution_count": 29
        }
      ]
    },
    {
      "cell_type": "code",
      "metadata": {
        "id": "HJdW3GfOAqaJ",
        "colab_type": "code",
        "colab": {}
      },
      "source": [
        ""
      ],
      "execution_count": 0,
      "outputs": []
    },
    {
      "cell_type": "code",
      "metadata": {
        "id": "3oPOJLEo_st8",
        "colab_type": "code",
        "colab": {}
      },
      "source": [
        "import sys\n",
        "import joblib\n",
        "lm=joblib.load(\"house_price.pkl\")\n",
        "lotsize = int(sys.argv[1])\n",
        "bathrms = int(sys.argv[2])\n",
        "driveway = int(sys.argv[3])\n",
        "recroom = int(sys.argv[4])\n",
        "fullbase = int(sys.argv[5])\n",
        "gashw = int(sys.argv[6])\n",
        "airco = int(sys.argv[7])\n",
        "garagepl = int(sys.argv[8])\n",
        "prefarea = int(sys.argv[9])\n",
        "stories_four = int(sys.argv[10])\n",
        "stories_one = int(sys.argv[11])\n",
        "stories_three = int(sys.argv[12])\n",
        "\n",
        "\n",
        "# Convert these inputs in Dictionary \n",
        "\n",
        "dict1 = {'lotsize':lotsize , 'bathrms':bathrms , 'driveway':driveway,'recroom':recroom,\n",
        "        'fullbase':fullbase , 'gashw':gashw , 'airco':airco,\n",
        "        'garagepl':garagepl , 'prefarea':prefarea, 'stories_four':stories_four,\n",
        "        'stories_one':stories_one , 'stories_three':stories_three}\n",
        "\n",
        "df_input = pd.DataFrame(dict1, index=[0], columns=['lotsize','bathrms','driveway','recroom',\n",
        "                                                  'fullbase','gashw',\n",
        "                                                  'airco','garagepl','prefarea',\n",
        "                                                  'stories_four','stories_one',\n",
        "                                                  'stories_three'])\n",
        "\n",
        "df_input"
      ],
      "execution_count": 0,
      "outputs": []
    },
    {
      "cell_type": "code",
      "metadata": {
        "id": "n6ZdPXBlb820",
        "colab_type": "code",
        "outputId": "0a6747e1-ce5a-4617-b6d0-aa7c67925c30",
        "colab": {
          "base_uri": "https://localhost:8080/",
          "height": 284
        }
      },
      "source": [
        "lotsize = int(input('Enter Lotsize : '))\n",
        "bathrms = int(input('Enter Bathrooms : '))\n",
        "driveway = int(input('Enter Driveway : '))\n",
        "recroom = int(input('Enter Recroom : '))\n",
        "fullbase = int(input('Enter fullbase : '))\n",
        "gashw = int(input('Enter GasHotWater : '))\n",
        "airco = int(input('Enter AirCondition : '))\n",
        "garagepl = int(input('Enter Garage place : '))\n",
        "prefarea = int(input('Enter Prefarea : '))\n",
        "stories_four = int(input('Enter Story Four : '))\n",
        "stories_one = int(input('Enter Story One : '))\n",
        "stories_three = int(input('Enter Story Three : '))\n",
        "\n",
        "\n",
        "# Convert these inputs in Dictionary \n",
        "\n",
        "dict1 = {'lotsize':lotsize , 'bathrms':bathrms , 'driveway':driveway,'recroom':recroom,\n",
        "        'fullbase':fullbase , 'gashw':gashw , 'airco':airco,\n",
        "        'garagepl':garagepl , 'prefarea':prefarea, 'stories_four':stories_four,\n",
        "        'stories_one':stories_one , 'stories_three':stories_three}\n",
        "\n",
        "df_input = pd.DataFrame(dict1, index=[0], columns=['lotsize','bathrms','driveway','recroom',\n",
        "                                                  'fullbase','gashw',\n",
        "                                                  'airco','garagepl','prefarea',\n",
        "                                                  'stories_four','stories_one',\n",
        "                                                  'stories_three'])\n",
        "\n",
        "df_input"
      ],
      "execution_count": 0,
      "outputs": [
        {
          "output_type": "stream",
          "text": [
            "Enter Lotsize : 500\n",
            "Enter Bathrooms : 2\n",
            "Enter Driveway : 1\n",
            "Enter Recroom : 0\n",
            "Enter fullbase : 1\n",
            "Enter GasHotWater : 0\n",
            "Enter AirCondition : 1\n",
            "Enter Garage place : 1\n",
            "Enter Prefarea : 0\n",
            "Enter Story Four : 1\n",
            "Enter Story One : 0\n",
            "Enter Story Three : 0\n"
          ],
          "name": "stdout"
        },
        {
          "output_type": "execute_result",
          "data": {
            "text/html": [
              "<div>\n",
              "<style scoped>\n",
              "    .dataframe tbody tr th:only-of-type {\n",
              "        vertical-align: middle;\n",
              "    }\n",
              "\n",
              "    .dataframe tbody tr th {\n",
              "        vertical-align: top;\n",
              "    }\n",
              "\n",
              "    .dataframe thead th {\n",
              "        text-align: right;\n",
              "    }\n",
              "</style>\n",
              "<table border=\"1\" class=\"dataframe\">\n",
              "  <thead>\n",
              "    <tr style=\"text-align: right;\">\n",
              "      <th></th>\n",
              "      <th>lotsize</th>\n",
              "      <th>bathrms</th>\n",
              "      <th>driveway</th>\n",
              "      <th>recroom</th>\n",
              "      <th>fullbase</th>\n",
              "      <th>gashw</th>\n",
              "      <th>airco</th>\n",
              "      <th>garagepl</th>\n",
              "      <th>prefarea</th>\n",
              "      <th>stories_four</th>\n",
              "      <th>stories_one</th>\n",
              "      <th>stories_three</th>\n",
              "    </tr>\n",
              "  </thead>\n",
              "  <tbody>\n",
              "    <tr>\n",
              "      <th>0</th>\n",
              "      <td>500</td>\n",
              "      <td>2</td>\n",
              "      <td>1</td>\n",
              "      <td>0</td>\n",
              "      <td>1</td>\n",
              "      <td>0</td>\n",
              "      <td>1</td>\n",
              "      <td>1</td>\n",
              "      <td>0</td>\n",
              "      <td>1</td>\n",
              "      <td>0</td>\n",
              "      <td>0</td>\n",
              "    </tr>\n",
              "  </tbody>\n",
              "</table>\n",
              "</div>"
            ],
            "text/plain": [
              "   lotsize  bathrms  driveway  ...  stories_four  stories_one  stories_three\n",
              "0      500        2         1  ...             1            0              0\n",
              "\n",
              "[1 rows x 12 columns]"
            ]
          },
          "metadata": {
            "tags": []
          },
          "execution_count": 20
        }
      ]
    },
    {
      "cell_type": "code",
      "metadata": {
        "id": "wuQehK2FcTdW",
        "colab_type": "code",
        "outputId": "7b96079d-514b-4966-d1f0-056df164f039",
        "colab": {
          "base_uri": "https://localhost:8080/",
          "height": 34
        }
      },
      "source": [
        "predict_price = lm.predict(df_input)\n",
        "print ('Predicted Price Of House Is : ',predict_price[0])"
      ],
      "execution_count": 0,
      "outputs": [
        {
          "output_type": "stream",
          "text": [
            "Predicted Price Of House Is :  89722.09081085036\n"
          ],
          "name": "stdout"
        }
      ]
    },
    {
      "cell_type": "code",
      "metadata": {
        "id": "AQodsGLZcbDk",
        "colab_type": "code",
        "outputId": "163a35bc-370f-4205-9102-d55baa146a7b",
        "colab": {
          "base_uri": "https://localhost:8080/",
          "height": 34
        }
      },
      "source": [
        "# Accuracy \n",
        "y_train_predict = lm.predict(X_train)\n",
        "\n",
        "from sklearn.metrics import r2_score\n",
        "\n",
        "print (\"Accuracy : \",r2_score(y_train ,y_train_predict))"
      ],
      "execution_count": 0,
      "outputs": [
        {
          "output_type": "stream",
          "text": [
            "Accuracy :  0.6683760711168004\n"
          ],
          "name": "stdout"
        }
      ]
    },
    {
      "cell_type": "code",
      "metadata": {
        "id": "oAM1SinpcfsU",
        "colab_type": "code",
        "outputId": "4906e15b-70be-46e1-9f98-61257db001c6",
        "colab": {
          "base_uri": "https://localhost:8080/",
          "height": 646
        }
      },
      "source": [
        "# OLS --> Ordinary Least Square \n",
        "\n",
        "lm = sm.OLS(y_train,X_train).fit()\n",
        "print (lm.summary())"
      ],
      "execution_count": 0,
      "outputs": [
        {
          "output_type": "stream",
          "text": [
            "                                 OLS Regression Results                                \n",
            "=======================================================================================\n",
            "Dep. Variable:                  price   R-squared (uncentered):                   0.956\n",
            "Model:                            OLS   Adj. R-squared (uncentered):              0.954\n",
            "Method:                 Least Squares   F-statistic:                              760.6\n",
            "Date:                Thu, 20 Feb 2020   Prob (F-statistic):                   5.22e-278\n",
            "Time:                        04:07:20   Log-Likelihood:                         -4819.9\n",
            "No. Observations:                 436   AIC:                                      9664.\n",
            "Df Residuals:                     424   BIC:                                      9713.\n",
            "Df Model:                          12                                                  \n",
            "Covariance Type:            nonrobust                                                  \n",
            "=================================================================================\n",
            "                    coef    std err          t      P>|t|      [0.025      0.975]\n",
            "---------------------------------------------------------------------------------\n",
            "lotsize           3.7699      0.388      9.708      0.000       3.007       4.533\n",
            "bathrms        1.951e+04   1288.307     15.143      0.000     1.7e+04     2.2e+04\n",
            "driveway       1.202e+04   1956.537      6.143      0.000    8172.955    1.59e+04\n",
            "recroom        2872.0408   2142.873      1.340      0.181   -1339.936    7084.017\n",
            "fullbase       6400.7179   1798.062      3.560      0.000    2866.492    9934.943\n",
            "gashw          1.505e+04   3481.788      4.322      0.000    8203.720    2.19e+04\n",
            "airco          1.236e+04   1790.893      6.901      0.000    8838.568    1.59e+04\n",
            "garagepl       4189.5232    954.057      4.391      0.000    2314.253    6064.794\n",
            "prefarea       8426.2913   1989.313      4.236      0.000    4516.148    1.23e+04\n",
            "stories_four   1.385e+04   3438.209      4.028      0.000    7092.521    2.06e+04\n",
            "stories_one   -4097.5459   1568.606     -2.612      0.009   -7180.758   -1014.334\n",
            "stories_three  1.269e+04   3097.207      4.099      0.000    6606.358    1.88e+04\n",
            "==============================================================================\n",
            "Omnibus:                       35.736   Durbin-Watson:                   1.964\n",
            "Prob(Omnibus):                  0.000   Jarque-Bera (JB):               64.292\n",
            "Skew:                           0.514   Prob(JB):                     1.09e-14\n",
            "Kurtosis:                       4.576   Cond. No.                     2.79e+04\n",
            "==============================================================================\n",
            "\n",
            "Warnings:\n",
            "[1] Standard Errors assume that the covariance matrix of the errors is correctly specified.\n",
            "[2] The condition number is large, 2.79e+04. This might indicate that there are\n",
            "strong multicollinearity or other numerical problems.\n"
          ],
          "name": "stdout"
        }
      ]
    },
    {
      "cell_type": "code",
      "metadata": {
        "id": "t9VUgjT7cs08",
        "colab_type": "code",
        "outputId": "973bfa10-2391-4c08-b976-9947dcb81f97",
        "colab": {
          "base_uri": "https://localhost:8080/",
          "height": 85
        }
      },
      "source": [
        "independent_variables = ['lotsize', 'bathrms', 'driveway', \n",
        "                          'fullbase', 'gashw',\n",
        "                         'airco', 'garagepl', 'prefarea', \n",
        "                         'stories_four', 'stories_one', \n",
        "                         'stories_three']\n",
        "\n",
        "X = df[independent_variables]\n",
        "y = df['price']\n",
        "\n",
        "# Train / Test Dataset\n",
        "\n",
        "from sklearn.model_selection import train_test_split\n",
        "\n",
        "X_train , X_test , y_train , y_test = train_test_split(X,y,train_size=.80,random_state=1)\n",
        "\n",
        "print (\"X_train\",X_train.shape)\n",
        "print (\"X_test\",X_test.shape)\n",
        "print (\"y_train\",y_train.shape)\n",
        "print (\"y_test\",y_test.shape)"
      ],
      "execution_count": 0,
      "outputs": [
        {
          "output_type": "stream",
          "text": [
            "X_train (436, 11)\n",
            "X_test (110, 11)\n",
            "y_train (436,)\n",
            "y_test (110,)\n"
          ],
          "name": "stdout"
        }
      ]
    },
    {
      "cell_type": "code",
      "metadata": {
        "id": "FOTRnx65c7pM",
        "colab_type": "code",
        "outputId": "1de3513a-3c28-43bd-8932-cf530ea87df2",
        "colab": {
          "base_uri": "https://localhost:8080/",
          "height": 629
        }
      },
      "source": [
        "lm = sm.OLS(y_train,X_train).fit()\n",
        "print (lm.summary())"
      ],
      "execution_count": 0,
      "outputs": [
        {
          "output_type": "stream",
          "text": [
            "                                 OLS Regression Results                                \n",
            "=======================================================================================\n",
            "Dep. Variable:                  price   R-squared (uncentered):                   0.955\n",
            "Model:                            OLS   Adj. R-squared (uncentered):              0.954\n",
            "Method:                 Least Squares   F-statistic:                              828.0\n",
            "Date:                Thu, 20 Feb 2020   Prob (F-statistic):                   4.34e-279\n",
            "Time:                        04:07:33   Log-Likelihood:                         -4820.8\n",
            "No. Observations:                 436   AIC:                                      9664.\n",
            "Df Residuals:                     425   BIC:                                      9708.\n",
            "Df Model:                          11                                                  \n",
            "Covariance Type:            nonrobust                                                  \n",
            "=================================================================================\n",
            "                    coef    std err          t      P>|t|      [0.025      0.975]\n",
            "---------------------------------------------------------------------------------\n",
            "lotsize           3.8087      0.388      9.826      0.000       3.047       4.571\n",
            "bathrms         1.95e+04   1289.505     15.125      0.000     1.7e+04     2.2e+04\n",
            "driveway        1.21e+04   1957.405      6.182      0.000    8253.555    1.59e+04\n",
            "fullbase       7194.3499   1699.352      4.234      0.000    3854.169    1.05e+04\n",
            "gashw          1.511e+04   3484.684      4.338      0.000    8265.546     2.2e+04\n",
            "airco          1.248e+04   1790.273      6.971      0.000    8961.294     1.6e+04\n",
            "garagepl       4116.6719    953.399      4.318      0.000    2242.707    5990.637\n",
            "prefarea       8604.6955   1986.713      4.331      0.000    4699.689    1.25e+04\n",
            "stories_four   1.405e+04   3438.140      4.087      0.000    7294.124    2.08e+04\n",
            "stories_one   -4218.1782   1567.488     -2.691      0.007   -7299.172   -1137.184\n",
            "stories_three  1.265e+04   3099.966      4.082      0.000    6561.305    1.87e+04\n",
            "==============================================================================\n",
            "Omnibus:                       34.173   Durbin-Watson:                   1.963\n",
            "Prob(Omnibus):                  0.000   Jarque-Bera (JB):               59.327\n",
            "Skew:                           0.506   Prob(JB):                     1.31e-13\n",
            "Kurtosis:                       4.498   Cond. No.                     2.79e+04\n",
            "==============================================================================\n",
            "\n",
            "Warnings:\n",
            "[1] Standard Errors assume that the covariance matrix of the errors is correctly specified.\n",
            "[2] The condition number is large, 2.79e+04. This might indicate that there are\n",
            "strong multicollinearity or other numerical problems.\n"
          ],
          "name": "stdout"
        }
      ]
    },
    {
      "cell_type": "code",
      "metadata": {
        "id": "YrI8__1IdGJM",
        "colab_type": "code",
        "outputId": "231d4099-67fb-4071-cec5-667e1029c32f",
        "colab": {
          "base_uri": "https://localhost:8080/",
          "height": 34
        }
      },
      "source": [
        "# Accuracy \n",
        "y_train_predict = lm.predict(X_train)\n",
        "\n",
        "from sklearn.metrics import r2_score\n",
        "\n",
        "print (\"Accuracy : \",r2_score(y_train ,y_train_predict))"
      ],
      "execution_count": 0,
      "outputs": [
        {
          "output_type": "stream",
          "text": [
            "Accuracy :  0.6669710966728543\n"
          ],
          "name": "stdout"
        }
      ]
    }
  ]
}