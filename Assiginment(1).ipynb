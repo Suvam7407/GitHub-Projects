{
  "nbformat": 4,
  "nbformat_minor": 0,
  "metadata": {
    "colab": {
      "name": "Assiginment(1).ipynb",
      "provenance": [],
      "authorship_tag": "ABX9TyNIANAIlY0aOefgT2HcmLT2",
      "include_colab_link": true
    },
    "kernelspec": {
      "name": "python3",
      "display_name": "Python 3"
    }
  },
  "cells": [
    {
      "cell_type": "markdown",
      "metadata": {
        "id": "view-in-github",
        "colab_type": "text"
      },
      "source": [
        "<a href=\"https://colab.research.google.com/github/Suvam7407/GitHub-Projects/blob/master/Assiginment(1).ipynb\" target=\"_parent\"><img src=\"https://colab.research.google.com/assets/colab-badge.svg\" alt=\"Open In Colab\"/></a>"
      ]
    },
    {
      "cell_type": "code",
      "metadata": {
        "id": "QpvXvEDFH_s3",
        "colab_type": "code",
        "colab": {
          "base_uri": "https://localhost:8080/",
          "height": 54
        },
        "outputId": "41b0e9b9-c7a1-4f50-849e-63ca8b535f32"
      },
      "source": [
        "for i in range(2000,3201):\n",
        "  if(i==3200):\n",
        "    if(i%7==0 and i%5!=0):\n",
        "      print(i)\n",
        "      \n",
        "  else:\n",
        "    if(i%7==0 and i%5!=0):\n",
        "      if(i==3199):\n",
        "        print(i)\n",
        "      else:\n",
        "        print(i,end=\",\")"
      ],
      "execution_count": 1,
      "outputs": [
        {
          "output_type": "stream",
          "text": [
            "2002,2009,2016,2023,2037,2044,2051,2058,2072,2079,2086,2093,2107,2114,2121,2128,2142,2149,2156,2163,2177,2184,2191,2198,2212,2219,2226,2233,2247,2254,2261,2268,2282,2289,2296,2303,2317,2324,2331,2338,2352,2359,2366,2373,2387,2394,2401,2408,2422,2429,2436,2443,2457,2464,2471,2478,2492,2499,2506,2513,2527,2534,2541,2548,2562,2569,2576,2583,2597,2604,2611,2618,2632,2639,2646,2653,2667,2674,2681,2688,2702,2709,2716,2723,2737,2744,2751,2758,2772,2779,2786,2793,2807,2814,2821,2828,2842,2849,2856,2863,2877,2884,2891,2898,2912,2919,2926,2933,2947,2954,2961,2968,2982,2989,2996,3003,3017,3024,3031,3038,3052,3059,3066,3073,3087,3094,3101,3108,3122,3129,3136,3143,3157,3164,3171,3178,3192,3199\n"
          ],
          "name": "stdout"
        }
      ]
    },
    {
      "cell_type": "code",
      "metadata": {
        "id": "mb0pMkWBIM4J",
        "colab_type": "code",
        "colab": {
          "base_uri": "https://localhost:8080/",
          "height": 85
        },
        "outputId": "1861f07a-072d-46cb-bf12-703d11ad5fbc"
      },
      "source": [
        "first_name=input(\"Enter the first name: \")\n",
        "Last_name=input(\"Enter the last name: \")\n",
        "add=first_name+\" \"+Last_name\n",
        "print(\"Normal: \",add)\n",
        "print(\"Reverse: \",add[::-1])"
      ],
      "execution_count": 3,
      "outputs": [
        {
          "output_type": "stream",
          "text": [
            "Enter the first name: Suvam\n",
            "Enter the last name: Ghosh\n",
            "Normal:  Suvam Ghosh\n",
            "Reverse:  hsohG mavuS\n"
          ],
          "name": "stdout"
        }
      ]
    },
    {
      "cell_type": "code",
      "metadata": {
        "id": "p7d6Yo0LIRCi",
        "colab_type": "code",
        "colab": {
          "base_uri": "https://localhost:8080/",
          "height": 34
        },
        "outputId": "89199a18-6e80-47cf-c295-3f402cc710b7"
      },
      "source": [
        "import math\n",
        "r=12\n",
        "pi=math.pi\n",
        "rcube=pow(12,3)\n",
        "r=12\n",
        "v=(4/3)*pi*rcube\n",
        "print(v)"
      ],
      "execution_count": 4,
      "outputs": [
        {
          "output_type": "stream",
          "text": [
            "7238.229473870882\n"
          ],
          "name": "stdout"
        }
      ]
    },
    {
      "cell_type": "code",
      "metadata": {
        "id": "ilIqKiceIfPS",
        "colab_type": "code",
        "colab": {
          "base_uri": "https://localhost:8080/",
          "height": 34
        },
        "outputId": "b0779eb1-3cee-4a90-be3c-b852f5e32f88"
      },
      "source": [
        "l=[]\n",
        "for i in range(1,11):\n",
        "  l.append(i)\n",
        "l "
      ],
      "execution_count": 5,
      "outputs": [
        {
          "output_type": "execute_result",
          "data": {
            "text/plain": [
              "[1, 2, 3, 4, 5, 6, 7, 8, 9, 10]"
            ]
          },
          "metadata": {
            "tags": []
          },
          "execution_count": 5
        }
      ]
    },
    {
      "cell_type": "code",
      "metadata": {
        "id": "itfNPviSIkFV",
        "colab_type": "code",
        "colab": {
          "base_uri": "https://localhost:8080/",
          "height": 527
        },
        "outputId": "2d47b9f8-805d-4af9-9081-e47cdb2995b3"
      },
      "source": [
        "for i in range(9,0,-2):\n",
        "  print(\"\")\n",
        "  \n",
        "  \n",
        "  for j in range(i) :\n",
        "    print(\"*\")"
      ],
      "execution_count": 6,
      "outputs": [
        {
          "output_type": "stream",
          "text": [
            "\n",
            "*\n",
            "*\n",
            "*\n",
            "*\n",
            "*\n",
            "*\n",
            "*\n",
            "*\n",
            "*\n",
            "\n",
            "*\n",
            "*\n",
            "*\n",
            "*\n",
            "*\n",
            "*\n",
            "*\n",
            "\n",
            "*\n",
            "*\n",
            "*\n",
            "*\n",
            "*\n",
            "\n",
            "*\n",
            "*\n",
            "*\n",
            "\n",
            "*\n"
          ],
          "name": "stdout"
        }
      ]
    },
    {
      "cell_type": "code",
      "metadata": {
        "id": "39FkJ_qBIowj",
        "colab_type": "code",
        "colab": {
          "base_uri": "https://localhost:8080/",
          "height": 34
        },
        "outputId": "48c5156c-9782-4c16-a44c-4d54a7307917"
      },
      "source": [
        "a=\"AcadGlid\"\n",
        "b=a[::-1]\n",
        "b"
      ],
      "execution_count": 7,
      "outputs": [
        {
          "output_type": "execute_result",
          "data": {
            "text/plain": [
              "'dilGdacA'"
            ]
          },
          "metadata": {
            "tags": []
          },
          "execution_count": 7
        }
      ]
    },
    {
      "cell_type": "code",
      "metadata": {
        "id": "4Ag5AjVnIs2o",
        "colab_type": "code",
        "colab": {
          "base_uri": "https://localhost:8080/",
          "height": 85
        },
        "outputId": "52fd1ab3-5ca3-421c-b57d-65dbef48d25c"
      },
      "source": [
        "print(\" WE, THE PEOPLE OF INDIA,\\n\\t having solemnly resolved to constitute India into a SOVEREIGN,\\n\\t\\t SOCIALIST, SECULAR, DEMOCRATIC REPUBLIC\\n\\t\\t and to secure to allits citizens\")"
      ],
      "execution_count": 8,
      "outputs": [
        {
          "output_type": "stream",
          "text": [
            " WE, THE PEOPLE OF INDIA,\n",
            "\t having solemnly resolved to constitute India into a SOVEREIGN,\n",
            "\t\t SOCIALIST, SECULAR, DEMOCRATIC REPUBLIC\n",
            "\t\t and to secure to allits citizens\n"
          ],
          "name": "stdout"
        }
      ]
    },
    {
      "cell_type": "code",
      "metadata": {
        "id": "FroGFIGuIySv",
        "colab_type": "code",
        "colab": {}
      },
      "source": [
        ""
      ],
      "execution_count": 0,
      "outputs": []
    }
  ]
}